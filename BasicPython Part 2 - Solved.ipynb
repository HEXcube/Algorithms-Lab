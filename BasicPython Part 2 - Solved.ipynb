{
 "cells": [
  {
   "cell_type": "markdown",
   "metadata": {},
   "source": [
    "# Lists"
   ]
  },
  {
   "cell_type": "code",
   "execution_count": 4,
   "metadata": {},
   "outputs": [
    {
     "name": "stdout",
     "output_type": "stream",
     "text": [
      "a =  [] b =  [1, 2, 3]\n"
     ]
    }
   ],
   "source": [
    "a = []\n",
    "b = [1, 2, 3]\n",
    "\n",
    "print(\"a = \", a, \"b = \", b)"
   ]
  },
  {
   "cell_type": "code",
   "execution_count": 17,
   "metadata": {},
   "outputs": [
    {
     "name": "stdout",
     "output_type": "stream",
     "text": [
      "a =  [10, 10, 10, 10] b =  [1, 2, 3, 12, 12, 12, 12]\n"
     ]
    }
   ],
   "source": [
    "a.append(10)\n",
    "b.append(12)\n",
    "\n",
    "print(\"a = \", a, \"b = \", b)"
   ]
  },
  {
   "cell_type": "code",
   "execution_count": 4,
   "metadata": {},
   "outputs": [
    {
     "data": {
      "text/plain": [
       "4"
      ]
     },
     "execution_count": 4,
     "metadata": {},
     "output_type": "execute_result"
    }
   ],
   "source": [
    "# Length of a list\n",
    "len(b)"
   ]
  },
  {
   "cell_type": "code",
   "execution_count": 5,
   "metadata": {},
   "outputs": [
    {
     "data": {
      "text/plain": [
       "1"
      ]
     },
     "execution_count": 5,
     "metadata": {},
     "output_type": "execute_result"
    }
   ],
   "source": [
    "len(a)"
   ]
  },
  {
   "cell_type": "code",
   "execution_count": 6,
   "metadata": {},
   "outputs": [
    {
     "data": {
      "text/plain": [
       "0"
      ]
     },
     "execution_count": 6,
     "metadata": {},
     "output_type": "execute_result"
    }
   ],
   "source": [
    "len([])"
   ]
  },
  {
   "cell_type": "markdown",
   "metadata": {},
   "source": [
    "## Looping through elements of a list"
   ]
  },
  {
   "cell_type": "code",
   "execution_count": 5,
   "metadata": {},
   "outputs": [
    {
     "name": "stdout",
     "output_type": "stream",
     "text": [
      "element:  1\n",
      "element:  2\n",
      "element:  3\n"
     ]
    }
   ],
   "source": [
    "for i in b:\n",
    "    print(\"element: \", i)"
   ]
  },
  {
   "cell_type": "code",
   "execution_count": 19,
   "metadata": {},
   "outputs": [
    {
     "name": "stdout",
     "output_type": "stream",
     "text": [
      "index:  0\n",
      "index:  1\n",
      "index:  2\n",
      "index:  3\n",
      "index:  4\n",
      "index:  5\n",
      "index:  6\n",
      "index:  7\n",
      "index:  8\n",
      "index:  9\n"
     ]
    }
   ],
   "source": [
    "# loop for 10 times:\n",
    "for i in range(10):\n",
    "    print(\"index: \", i)"
   ]
  },
  {
   "cell_type": "code",
   "execution_count": 2,
   "metadata": {},
   "outputs": [
    {
     "name": "stdout",
     "output_type": "stream",
     "text": [
      "c =  11 d =  101\n",
      "c =  12 d =  102\n",
      "c =  13 d =  103\n",
      "c =  14 d =  107\n"
     ]
    }
   ],
   "source": [
    "# Iterate through two lists:\n",
    "c = [11, 12, 13, 14]\n",
    "d = [101, 102, 103, 107]\n",
    "\n",
    "for i, j in zip(c, d):\n",
    "    print(\"c = \", i, \"d = \", j)"
   ]
  },
  {
   "cell_type": "code",
   "execution_count": 21,
   "metadata": {},
   "outputs": [
    {
     "name": "stdout",
     "output_type": "stream",
     "text": [
      "Entry number  0 is  11\n",
      "Entry number  1 is  12\n",
      "Entry number  2 is  13\n",
      "Entry number  3 is  14\n"
     ]
    }
   ],
   "source": [
    "# Iterate through one list, but also get an index:\n",
    "for i, k in enumerate(c):\n",
    "    print(\"Entry number \", i, \"is \", k)"
   ]
  },
  {
   "cell_type": "code",
   "execution_count": 25,
   "metadata": {},
   "outputs": [],
   "source": [
    "# A function to compute the sum of elements of a list\n",
    "def mysum(a):\n",
    "    s = 0\n",
    "    for x in a:\n",
    "        s += x\n",
    "    return s"
   ]
  },
  {
   "cell_type": "code",
   "execution_count": 26,
   "metadata": {},
   "outputs": [
    {
     "data": {
      "text/plain": [
       "23"
      ]
     },
     "execution_count": 26,
     "metadata": {},
     "output_type": "execute_result"
    }
   ],
   "source": [
    "mysum([5, 8, 10])"
   ]
  },
  {
   "cell_type": "markdown",
   "metadata": {},
   "source": [
    "### Questions\n",
    "1) Write a function to find the sum of first $n$ natural numbers. Accept $n$ as an input parameter. (Hint: use the range function)\n",
    "\n",
    "2) Write a function which takes in a list of numbers and returns the average.\n",
    "\n",
    "3) Write a function which accepts three lists and returns a list of sums of the corresponding elements. If the inputs are [3, 1, 3], [1, 4, 8], [1, 1, 2], the output should be [5, 6, 13]. \n",
    "\n",
    "4) (harder) In the previous question, if the lists are of unequal lengths, what happens? Change your program to make sure that even if some of the lists are exhausted, the output continues with the sum of the elements of the rest of the lists."
   ]
  },
  {
   "cell_type": "code",
   "execution_count": 6,
   "metadata": {},
   "outputs": [
    {
     "name": "stdout",
     "output_type": "stream",
     "text": [
      "15\n"
     ]
    }
   ],
   "source": [
    "# Q1\n",
    "def naturalSum(n):\n",
    "    sum = 0\n",
    "    n+=1\n",
    "    for i in range(n):\n",
    "        sum += i\n",
    "    return sum\n",
    "\n",
    "print(naturalSum(5))"
   ]
  },
  {
   "cell_type": "code",
   "execution_count": 9,
   "metadata": {},
   "outputs": [
    {
     "name": "stdout",
     "output_type": "stream",
     "text": [
      "10.0\n"
     ]
    }
   ],
   "source": [
    "# Q2\n",
    "def average(a):\n",
    "    sum = 0\n",
    "    for i in a:\n",
    "        sum += i\n",
    "    \n",
    "    count = len(a)\n",
    "    avg = sum/count\n",
    "    return avg\n",
    "\n",
    "print(average([5, 10, 15]))"
   ]
  },
  {
   "cell_type": "code",
   "execution_count": 8,
   "metadata": {},
   "outputs": [
    {
     "name": "stdout",
     "output_type": "stream",
     "text": [
      "[21, 23, 36]\n"
     ]
    }
   ],
   "source": [
    "# Q3\n",
    "def listSum(c, d, e):\n",
    "    sumlist = []\n",
    "    for i, j, k in zip(c, d, e):\n",
    "        sumlist.append(i+j+k)\n",
    "    return sumlist\n",
    "\n",
    "print(listSum([5, 10, 15],[4, 8, 12],[12, 5, 9]))"
   ]
  },
  {
   "cell_type": "code",
   "execution_count": 5,
   "metadata": {},
   "outputs": [
    {
     "name": "stdout",
     "output_type": "stream",
     "text": [
      "[11, 14, 14, 9]\n"
     ]
    }
   ],
   "source": [
    "# Q4\n",
    "def listSum(c, d, e):\n",
    "    maximum = max(len(c), len(d), len(c))\n",
    "    minimum = min(len(c), len(d), len(c))\n",
    "    diff = maximum - minimum\n",
    "    for i in range(diff):\n",
    "        c.append(0)\n",
    "        d.append(0)\n",
    "        e.append(0)\n",
    "    sumlist = []\n",
    "    for i, j, k in zip(c, d, e):\n",
    "        sumlist.append(i+j+k)\n",
    "    return sumlist\n",
    "\n",
    "print(listSum([5, 1, 5, 9],[4, 8],[2, 5, 9]))"
   ]
  },
  {
   "cell_type": "markdown",
   "metadata": {},
   "source": [
    "## Creating Lists"
   ]
  },
  {
   "cell_type": "code",
   "execution_count": 2,
   "metadata": {},
   "outputs": [],
   "source": [
    "# Let us create a function that accepts a list of numbers and returns a list of the squares of those numbers\n",
    "def squares(numbers):\n",
    "    squares = [] # Intialize the list\n",
    "    for num in numbers:\n",
    "        squares.append( num ** 2 )\n",
    "    return squares"
   ]
  },
  {
   "cell_type": "code",
   "execution_count": 3,
   "metadata": {},
   "outputs": [
    {
     "data": {
      "text/plain": [
       "[4, 49, 169, 1]"
      ]
     },
     "execution_count": 3,
     "metadata": {},
     "output_type": "execute_result"
    }
   ],
   "source": [
    "squares([2, 7, 13, 1])"
   ]
  },
  {
   "cell_type": "markdown",
   "metadata": {},
   "source": [
    "### Question\n",
    "1) Write a function which accepts a list of numbers and a threshold number. The function returns a new list containing 1s and 0s. The $i$th entry of the new list is $1$ if the $i$th entry of the old list is greater than or equal to threshold, and $0$ otherwise. An example: if the inputs are $[10, 2, 5, 8]$ and if the threshold is $5$, the output should be $[1, 0, 1, 1]$."
   ]
  },
  {
   "cell_type": "code",
   "execution_count": 7,
   "metadata": {},
   "outputs": [
    {
     "name": "stdout",
     "output_type": "stream",
     "text": [
      "[0, 0, 1, 1]\n"
     ]
    }
   ],
   "source": [
    "def threshSum(numbers, threshold):\n",
    "    threshList = [] # Intialize the list\n",
    "    for i in numbers:\n",
    "        if i < threshold :\n",
    "           threshList.append(0)\n",
    "        else:\n",
    "           threshList.append(1)\n",
    "    return threshList\n",
    "\n",
    "print(threshSum([5, 1, 13, 9], 8))"
   ]
  },
  {
   "cell_type": "markdown",
   "metadata": {},
   "source": [
    "# Plotting "
   ]
  },
  {
   "cell_type": "code",
   "execution_count": 4,
   "metadata": {},
   "outputs": [],
   "source": [
    "# This library is necessary for plotting in Python\n",
    "import matplotlib.pyplot as plt\n",
    "\n",
    "# the following line is only needed for jupyter notebooks\n",
    "%matplotlib inline"
   ]
  },
  {
   "cell_type": "code",
   "execution_count": 5,
   "metadata": {},
   "outputs": [
    {
     "data": {
      "image/png": "[encoded data removed]",
      "text/plain": [
       "<Figure size 432x288 with 1 Axes>"
      ]
     },
     "metadata": {
      "needs_background": "light"
     },
     "output_type": "display_data"
    }
   ],
   "source": [
    "# Now let us create a graph for y = x^2. \n",
    "\n",
    "x = []\n",
    "y = []\n",
    "for i in range(-100, 100):\n",
    "    num = i/100\n",
    "    x.append(num)\n",
    "    y.append(num * num)\n",
    "\n",
    "plt.plot(x, y)\n",
    "plt.show()"
   ]
  },
  {
   "cell_type": "markdown",
   "metadata": {},
   "source": [
    "### Questions\n",
    "5) Plot the exponential, sin, cos and tan functions.\n",
    "\n",
    "6) Plot the functions $y = x^2 + x - 3$ and $y = x^3 - 10x^2 - x + 12$\n",
    "\n",
    "7) Plot the polar function $r = \\cos{(2\\theta)}$"
   ]
  },
  {
   "cell_type": "code",
   "execution_count": 33,
   "metadata": {},
   "outputs": [
    {
     "data": {
      "image/png": "[encoded data removed]",
      "text/plain": [
       "<Figure size 432x288 with 1 Axes>"
      ]
     },
     "metadata": {
      "needs_background": "light"
     },
     "output_type": "display_data"
    },
    {
     "data": {
      "image/png": "[encoded data removed]",
      "text/plain": [
       "<Figure size 432x288 with 1 Axes>"
      ]
     },
     "metadata": {
      "needs_background": "light"
     },
     "output_type": "display_data"
    },
    {
     "data": {
      "image/png": "[encoded data removed]",
      "text/plain": [
       "<Figure size 432x288 with 1 Axes>"
      ]
     },
     "metadata": {
      "needs_background": "light"
     },
     "output_type": "display_data"
    }
   ],
   "source": [
    "# Q5\n",
    "from numpy import sin, cos, tan, pi\n",
    "from math import radians\n",
    "\n",
    "x = []\n",
    "sinVals = []\n",
    "cosVals = []\n",
    "tanVals = []\n",
    "for num in range(0, 360):\n",
    "    x.append(num)\n",
    "    num = radians(num) #convert degree to radian\n",
    "    sinVals.append(sin(num))\n",
    "    cosVals.append(cos(num))\n",
    "    tanVals.append(tan(num))\n",
    "\n",
    "plt.plot(x, sinVals)\n",
    "plt.show()\n",
    "\n",
    "plt.plot(x, cosVals)\n",
    "plt.show()\n",
    "\n",
    "plt.plot(x, tanVals)\n",
    "plt.show()\n",
    "\n"
   ]
  },
  {
   "cell_type": "code",
   "execution_count": 27,
   "metadata": {},
   "outputs": [
    {
     "data": {
      "image/png": "[encoded data removed]",
      "text/plain": [
       "<Figure size 432x288 with 1 Axes>"
      ]
     },
     "metadata": {
      "needs_background": "light"
     },
     "output_type": "display_data"
    },
    {
     "data": {
      "image/png": "[encoded data removed]",
      "text/plain": [
       "<Figure size 432x288 with 1 Axes>"
      ]
     },
     "metadata": {
      "needs_background": "light"
     },
     "output_type": "display_data"
    }
   ],
   "source": [
    "# Q6\n",
    "x = []\n",
    "y1 = []\n",
    "y2 = []\n",
    "for i in range(-100, 100):\n",
    "    num = i\n",
    "    x.append(num)\n",
    "    y1.append(num ** 2 + num - 3)\n",
    "    y2.append(num ** 3 + 10 * num ** 2 - num + 12)\n",
    "\n",
    "plt.plot(x, y1)\n",
    "plt.show()\n",
    "\n",
    "plt.plot(x, y2)\n",
    "plt.show()\n"
   ]
  },
  {
   "cell_type": "code",
   "execution_count": 20,
   "metadata": {},
   "outputs": [
    {
     "data": {
      "image/png": "[encoded data removed]",
      "text/plain": [
       "<Figure size 432x288 with 1 Axes>"
      ]
     },
     "metadata": {},
     "output_type": "display_data"
    }
   ],
   "source": [
    "# Q7\n",
    "from numpy import cos, sin, linspace, pi\n",
    "\n",
    "theta = linspace(0, 2*pi, 90)\n",
    "r = cos(2*theta)\n",
    "\n",
    "#convert polar space to linear space\n",
    "x = r*cos(theta)\n",
    "y = r*sin(theta)\n",
    "\n",
    "plt.plot(x, y)\n",
    "plt.show()"
   ]
  },
  {
   "cell_type": "markdown",
   "metadata": {},
   "source": [
    "# Dictionary"
   ]
  },
  {
   "cell_type": "markdown",
   "metadata": {},
   "source": [
    "The Hash data structure is known as dictionary in Python. A dictionary maps keys to values. Let us see an example."
   ]
  },
  {
   "cell_type": "code",
   "execution_count": 2,
   "metadata": {},
   "outputs": [
    {
     "data": {
      "text/plain": [
       "{'India': 'New Delhi', 'United States': 'Washington, D.C.', 'Japan': 'Tokyo'}"
      ]
     },
     "execution_count": 2,
     "metadata": {},
     "output_type": "execute_result"
    }
   ],
   "source": [
    "h = {} # Empty dictionary\n",
    "h['India'] = 'New Delhi'\n",
    "h['United States'] = 'Washington, D.C.'\n",
    "h['Japan'] = 'Tokyo'\n",
    "\n",
    "h"
   ]
  },
  {
   "cell_type": "code",
   "execution_count": 27,
   "metadata": {},
   "outputs": [
    {
     "name": "stdout",
     "output_type": "stream",
     "text": [
      "{'India': 'New Delhi', 'United States': 'Washington, D.C.', 'Japan': 'Tokyo'}\n"
     ]
    }
   ],
   "source": [
    "print(h)"
   ]
  },
  {
   "cell_type": "code",
   "execution_count": 3,
   "metadata": {},
   "outputs": [
    {
     "name": "stdout",
     "output_type": "stream",
     "text": [
      "Capital of India is New Delhi\n",
      "Capital of United States is Washington, D.C.\n",
      "Capital of Japan is Tokyo\n"
     ]
    }
   ],
   "source": [
    "# Let us print the dictionary in a nicer way\n",
    "for k in h:\n",
    "    print(\"Capital of\", k, \"is\", h[k])"
   ]
  },
  {
   "cell_type": "markdown",
   "metadata": {},
   "source": [
    "Keys can be any *immutable* data types, like integers, strings etc. Next we will see a dictionary with integers and strings as keys."
   ]
  },
  {
   "cell_type": "code",
   "execution_count": 35,
   "metadata": {},
   "outputs": [],
   "source": [
    "h2 = {}\n",
    "h2[123] = 10\n",
    "h2[89] = 'eighty nine'\n",
    "h2['one two three'] = 123"
   ]
  },
  {
   "cell_type": "code",
   "execution_count": 6,
   "metadata": {},
   "outputs": [
    {
     "name": "stdout",
     "output_type": "stream",
     "text": [
      "{123: 10, 89: 'eighty nine', 'one two three': 123}\n"
     ]
    }
   ],
   "source": [
    "print(h2)"
   ]
  },
  {
   "cell_type": "markdown",
   "metadata": {},
   "source": [
    "As you can see, the keys (and values) can of different types. The same is the case with Lists."
   ]
  },
  {
   "cell_type": "code",
   "execution_count": 8,
   "metadata": {},
   "outputs": [],
   "source": [
    "onelist = ['one', 2, 'three']"
   ]
  },
  {
   "cell_type": "code",
   "execution_count": 9,
   "metadata": {},
   "outputs": [
    {
     "name": "stdout",
     "output_type": "stream",
     "text": [
      "['one', 2, 'three']\n"
     ]
    }
   ],
   "source": [
    "print(onelist)"
   ]
  },
  {
   "cell_type": "markdown",
   "metadata": {},
   "source": [
    "The values of a dictionary can be *mutable*. "
   ]
  },
  {
   "cell_type": "code",
   "execution_count": 36,
   "metadata": {},
   "outputs": [
    {
     "name": "stdout",
     "output_type": "stream",
     "text": [
      "{'one': [], 'two': [5, 8], 'three': 'three'}\n"
     ]
    }
   ],
   "source": [
    "h3 = {}\n",
    "h3['one'] = []\n",
    "h3['two'] = [5, 8]\n",
    "h3['three'] = 'three'\n",
    "\n",
    "print(h3)"
   ]
  },
  {
   "cell_type": "code",
   "execution_count": 37,
   "metadata": {},
   "outputs": [
    {
     "name": "stdout",
     "output_type": "stream",
     "text": [
      "{'one': [15], 'two': [5, 8], 'three': 'three'}\n"
     ]
    }
   ],
   "source": [
    "h3['one'].append(15)\n",
    "print(h3)"
   ]
  },
  {
   "cell_type": "markdown",
   "metadata": {},
   "source": [
    "Try evaluating the following code:"
   ]
  },
  {
   "cell_type": "code",
   "execution_count": 38,
   "metadata": {},
   "outputs": [
    {
     "ename": "KeyError",
     "evalue": "'four'",
     "output_type": "error",
     "traceback": [
      "\u001b[0;31m---------------------------------------------------------------------------\u001b[0m",
      "\u001b[0;31mKeyError\u001b[0m                                  Traceback (most recent call last)",
      "\u001b[0;32m<ipython-input-38-ea15228c0651>\u001b[0m in \u001b[0;36m<module>\u001b[0;34m()\u001b[0m\n\u001b[0;32m----> 1\u001b[0;31m \u001b[0mh3\u001b[0m\u001b[0;34m[\u001b[0m\u001b[0;34m'four'\u001b[0m\u001b[0;34m]\u001b[0m\u001b[0;34m\u001b[0m\u001b[0m\n\u001b[0m",
      "\u001b[0;31mKeyError\u001b[0m: 'four'"
     ]
    }
   ],
   "source": [
    "h3['four']"
   ]
  },
  {
   "cell_type": "markdown",
   "metadata": {},
   "source": [
    "To avoid this error, we can first check if a key is present in the dictionary."
   ]
  },
  {
   "cell_type": "code",
   "execution_count": 39,
   "metadata": {},
   "outputs": [],
   "source": [
    "if 'four' in h3:\n",
    "    print(h3['four'])"
   ]
  },
  {
   "cell_type": "code",
   "execution_count": 40,
   "metadata": {},
   "outputs": [
    {
     "name": "stdout",
     "output_type": "stream",
     "text": [
      "[5, 8]\n"
     ]
    }
   ],
   "source": [
    "if 'two' in h3:\n",
    "    print(h3['two'])"
   ]
  },
  {
   "cell_type": "markdown",
   "metadata": {},
   "source": [
    "### Questions\n",
    "8) Write a function which accepts a number $n$ and returns a hash which maps integers from $1$ to $n$ to their squares.\n",
    "\n",
    "9) Write a function which accepts a list of strings and returns a dictionary mapping each string to its length. (To compute the length of a string, use the len function)"
   ]
  },
  {
   "cell_type": "code",
   "execution_count": 3,
   "metadata": {},
   "outputs": [
    {
     "name": "stdout",
     "output_type": "stream",
     "text": [
      "{1: 1, 2: 4, 3: 9, 4: 16, 5: 25, 6: 36, 7: 49, 8: 64}\n"
     ]
    }
   ],
   "source": [
    "# Q8\n",
    "def mapsqr(n):\n",
    "    sqrHash = {}\n",
    "    for i in range(1, n+1):\n",
    "        sqrHash[i] = i*i\n",
    "    return sqrHash\n",
    "\n",
    "print(mapsqr(8))"
   ]
  },
  {
   "cell_type": "code",
   "execution_count": 2,
   "metadata": {},
   "outputs": [
    {
     "name": "stdout",
     "output_type": "stream",
     "text": [
      "{'george': 6, 'lizzie': 6, 'ralph': 5}\n"
     ]
    }
   ],
   "source": [
    "# Q9\n",
    "def mapStrLength(stringList):\n",
    "    strLenMap = {}\n",
    "    for i in stringList:\n",
    "        strLenMap[i] = len(i)\n",
    "    return strLenMap\n",
    "\n",
    "print(mapStrLength(['george', 'lizzie', 'ralph']))"
   ]
  }
 ],
 "metadata": {
  "kernelspec": {
   "display_name": "Python 3",
   "language": "python",
   "name": "python3"
  },
  "language_info": {
   "codemirror_mode": {
    "name": "ipython",
    "version": 3
   },
   "file_extension": ".py",
   "mimetype": "text/x-python",
   "name": "python",
   "nbconvert_exporter": "python",
   "pygments_lexer": "ipython3",
   "version": "3.6.6"
  }
 },
 "nbformat": 4,
 "nbformat_minor": 2
}
