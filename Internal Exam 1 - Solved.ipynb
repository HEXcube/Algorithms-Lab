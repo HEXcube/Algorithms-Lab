{
 "cells": [
  {
   "cell_type": "markdown",
   "metadata": {},
   "source": [
    "## Instruction\n",
    "\n",
    "__Never__ use an additional import statement."
   ]
  },
  {
   "cell_type": "markdown",
   "metadata": {},
   "source": [
    "## Question 1\n",
    "(10 marks)\n",
    "\n",
    "You are given a list of strings. \n",
    "\n",
    "1) Write a function to construct a Binary Search Tree from the list using the lengths of the strings as keys. Do _not_ store the keys in a list or tuple. Return the tree using the Node class given below:"
   ]
  },
  {
   "cell_type": "code",
   "execution_count": 6,
   "metadata": {},
   "outputs": [],
   "source": [
    "class Node:\n",
    "    def __init__(self, key, value, left=None, right=None):\n",
    "        self.k = key\n",
    "        self.v = value\n",
    "        self.left = left\n",
    "        self.right = right"
   ]
  },
  {
   "cell_type": "code",
   "execution_count": 7,
   "metadata": {},
   "outputs": [],
   "source": [
    "# Write your Answer here. Write any other function if necessary.\n",
    "\n",
    "def insert(root, key, value):\n",
    "    \"\"\"Insert (key, value) at the appropriate place of the binary search \n",
    "    tree rooted at node `root'. If `root' is None, it means that \n",
    "    the tree empty - you need to create the root node.\n",
    "    Return the root node.\"\"\"\n",
    "    \n",
    "    if(root == None):\n",
    "        root = Node(key, value)\n",
    "    else:\n",
    "        if (key < root.k):\n",
    "            if(root.left == None):\n",
    "                root.left = Node(key, value)\n",
    "            else:\n",
    "                insert(root.left, key, value)\n",
    "        else:\n",
    "            if(root.right == None):\n",
    "                root.right = Node(key, value)\n",
    "            else:\n",
    "                insert(root.right, key, value)   \n",
    "    return root\n",
    "\n",
    "def build_bst(slist):\n",
    "    \"\"\"\n",
    "    Input: a list of strings\n",
    "    Output: A binary search tree with the strings as values \n",
    "     and their lengths as keys.\n",
    "    \"\"\"\n",
    "\n",
    "    bst = None\n",
    "    for string in slist:\n",
    "        bst = insert(bst, len(string), string)\n",
    "    return bst\n",
    "    "
   ]
  },
  {
   "cell_type": "code",
   "execution_count": 8,
   "metadata": {},
   "outputs": [],
   "source": [
    "# Test for checking your answer.\n",
    "\n",
    "nd = build_bst([\"ab\", \"cde\", \"f\"])\n",
    "assert nd.k == 2 and nd.v == \"ab\"\n",
    "assert (nd.left).k == 1 and (nd.left).v == \"f\"\n",
    "assert (nd.right).k == 3 and (nd.right).v == \"cde\""
   ]
  },
  {
   "cell_type": "markdown",
   "metadata": {},
   "source": [
    "2) Using the functions you wrote for the last question, write a function to sort the strings in _decreasing_ order of their lengths."
   ]
  },
  {
   "cell_type": "code",
   "execution_count": 9,
   "metadata": {},
   "outputs": [],
   "source": [
    "# Your answer here:\n",
    "\n",
    "# inorder traversal modified to return list of values in opposite order\n",
    "def inorderReverse(root):\n",
    "    \"\"\"Return a list of tuples (key, value) in the in-order traversal of bst \n",
    "    rooted at `root'.\"\"\"\n",
    "    \n",
    "    if (root == None):\n",
    "        return []\n",
    "    else:\n",
    "        return (inorderReverse(root.right) + [root.v] + inorderReverse(root.left))\n",
    "\n",
    "def sort_reverse_bst(slist):\n",
    "    \"\"\"\n",
    "    Input: a list of strings\n",
    "    Output: a list of strings where the strings are sorted in \n",
    "     descending order of lengths. \n",
    "    \"\"\"\n",
    "    return inorderReverse(build_bst(slist))\n",
    "    "
   ]
  },
  {
   "cell_type": "code",
   "execution_count": 10,
   "metadata": {},
   "outputs": [],
   "source": [
    "# Test\n",
    "assert sort_reverse_bst([\"ghij\", \"ab\", \"cde\", \"f\"]) == [\"ghij\", \"cde\", \"ab\", \"f\"]"
   ]
  },
  {
   "cell_type": "markdown",
   "metadata": {},
   "source": [
    "## Question 2\n",
    "\n",
    "(10 marks)\n",
    "\n",
    "A number of people are available to do a particular job. Each person has an initial rating from $0$ to $5$ associated with him/her. At each time step, the person with the highest rating is hired for the job. The job always lasts exactly one time-step. At the end of the job, the hired person is freed and his/her performance is rated by the employer. The new rating would be the average of all the ratings he/she has receieved so far (including the initial rating). For example, suppose Bob is the only person in the pool and suppose his initial rating is 4. Being the only person, he will be hired when required. If he then gets a rating of $3$, his effective rating would become $(4+3)/2$. After another hiring episode, if he gets a rating of $3.5$, his effective rating would be $(4+3+3.5)/3$ at the end of the job.\n",
    "\n",
    "Using Heaps, implement a class with a function for picking the current best-rated person and a function for updating his/her ratings. The class will get a list of tuples (person, initial-rating) as input."
   ]
  },
  {
   "cell_type": "code",
   "execution_count": 11,
   "metadata": {},
   "outputs": [],
   "source": [
    "# Write any other necessary classes and/or functions. \n",
    "# The skeleton of only one class is given here.\n",
    "\n",
    "\n",
    "class Hiring:\n",
    "    def __init__(self, pratings):\n",
    "        # Complete the code. Remember to use self. when necessary.\n",
    "        # Remember also that the __init__ function should not return anything.\n",
    "        self.ratingList = []\n",
    "        for name, rating in pratings:\n",
    "            # make rating the first element in tuple\n",
    "            # the 3rd element is number of times person got hired\n",
    "            self.ratingList.append([rating, name, 0])\n",
    "        \n",
    "        # heapify the list\n",
    "        self.ratingList = make_heap(self.ratingList)\n",
    "        \n",
    "    def hire(self):\n",
    "        # Return the best person.\n",
    "        return self.ratingList[0][1]\n",
    "        \n",
    "    def update(self, new_rating):\n",
    "        # Update the rating of the last hired person.\n",
    "        self.ratingList[0][2] += 1\n",
    "        no_of_hirings = self.ratingList[0][2]\n",
    "        current_rating = self.ratingList[0][0]\n",
    "        self.ratingList[0][0] = (current_rating*(no_of_hirings - 1) + new_rating)/no_of_hirings\n",
    "        # now that rating is updated make heap again\n",
    "        self.ratingList = make_heap(self.ratingList)\n",
    "\n",
    "def left(i):\n",
    "    return 2*i + 1\n",
    "\n",
    "def right(i):\n",
    "    return 2*i + 2\n",
    "\n",
    "def heapify(alist, i, heap_size):\n",
    "    # Make sure that element at index i is at its proper place\n",
    "\n",
    "    # Your code after this\n",
    "    left_child = left(i)\n",
    "    right_child = right(i)\n",
    "    largest = i\n",
    "\n",
    "    if(left_child <= heap_size and alist[left_child][0] > alist[largest][0]):\n",
    "        largest = left_child\n",
    "    if(right_child <= heap_size and alist[right_child][0] > alist[largest][0]):\n",
    "        largest = right_child\n",
    "    if largest != i:\n",
    "        alist[i], alist[largest] = alist[largest], alist[i]\n",
    "        return heapify(alist, largest, heap_size)\n",
    "    return alist\n",
    "\n",
    "def make_heap(alist):\n",
    "    # Use heapify in order to make the elements in alist is in proper max-heap order.\n",
    "\n",
    "    # Your code after this\n",
    "    array_length = len(alist)\n",
    "    for i in range((array_length//2), -1, -1):\n",
    "        heapify(alist, i , array_length - 1)\n",
    "    return alist\n",
    "\n"
   ]
  },
  {
   "cell_type": "code",
   "execution_count": 12,
   "metadata": {},
   "outputs": [],
   "source": [
    "# Test\n",
    "hr = Hiring([(\"alice\", 3.0), (\"mary\", 3.5), (\"eve\", 2.5)])\n",
    "assert hr.hire() == \"mary\"\n",
    "hr.update(3.0)\n",
    "assert hr.hire() == \"mary\"\n",
    "hr.update(2.0)\n",
    "assert hr.hire() == \"alice\"\n",
    "hr.update(1.5)\n",
    "assert hr.hire() == \"mary\"\n",
    "hr.update(1.0)\n",
    "assert hr.hire() == \"eve\"\n"
   ]
  }
 ],
 "metadata": {
  "kernelspec": {
   "display_name": "Python 3",
   "language": "python",
   "name": "python3"
  },
  "language_info": {
   "codemirror_mode": {
    "name": "ipython",
    "version": 3
   },
   "file_extension": ".py",
   "mimetype": "text/x-python",
   "name": "python",
   "nbconvert_exporter": "python",
   "pygments_lexer": "ipython3",
   "version": "3.6.6"
  }
 },
 "nbformat": 4,
 "nbformat_minor": 2
}
