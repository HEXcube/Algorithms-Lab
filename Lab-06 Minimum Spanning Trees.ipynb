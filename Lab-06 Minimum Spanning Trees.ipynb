{
 "cells": [
  {
   "cell_type": "markdown",
   "metadata": {},
   "source": [
    "# Minimum Spanning Tree"
   ]
  },
  {
   "cell_type": "markdown",
   "metadata": {},
   "source": [
    "In this assignment, we will implement the two minimum spanning tree algorithms: Prim's and Kruskal's."
   ]
  },
  {
   "cell_type": "markdown",
   "metadata": {},
   "source": [
    "## The Graph Class\n",
    "\n",
    "The following class is used for inputting the graphs."
   ]
  },
  {
   "cell_type": "code",
   "execution_count": null,
   "metadata": {},
   "outputs": [],
   "source": [
    "class Graph:\n",
    "    def __init__(self, edges, directed=False):\n",
    "        self.adj_list = {}\n",
    "        self.directed = directed\n",
    "        \n",
    "        for u, v, k in edges:\n",
    "            self.add_edge(u, v, k)\n",
    "            \n",
    "    def _add_edge_single(self, u, v, k):\n",
    "        \"\"\"Internal function. Do not use directly.\n",
    "        Add a single edge to the graph.\n",
    "        \"\"\"\n",
    "        if u not in self.adj_list:\n",
    "            self.adj_list[u] = []\n",
    "        self.adj_list[u].append((v, k))        \n",
    "                \n",
    "    def add_edge(self, u, v, k):\n",
    "        \"\"\"Add an edge to the graph. Add the reverse edge \n",
    "        when the graph is undirected.\"\"\"\n",
    "        self._add_edge_single(u, v, k)\n",
    "        if not self.directed:\n",
    "            self._add_edge_single(v, u, k)\n",
    "    \n",
    "    def neighbors(self, u):\n",
    "        \"\"\"Return the list of neighbors and the \n",
    "        corresponding weights of u\"\"\"\n",
    "        return self.adj_list[u]\n",
    "    \n",
    "    \n",
    "    def vertices(self):\n",
    "        \"\"\"Return the set of vertices of the graph\"\"\"\n",
    "        return self.adj_list.keys()\n",
    "    "
   ]
  },
  {
   "cell_type": "markdown",
   "metadata": {},
   "source": [
    "## Prim's Algorithm\n",
    "\n",
    "Implement the Prim's algorithm in the following cell. Return a hash with nodes as keys and the corresponding parents as values."
   ]
  },
  {
   "cell_type": "code",
   "execution_count": null,
   "metadata": {},
   "outputs": [],
   "source": [
    "# Add any functions/classes as necessary.\n",
    "\n",
    "def prim(graph, s):\n",
    "    # Your code here"
   ]
  },
  {
   "cell_type": "code",
   "execution_count": null,
   "metadata": {},
   "outputs": [],
   "source": [
    "# Test cell (from CLRS)\n",
    "\n",
    "graph = Graph([(0, 1, 4), (0, 7, 8), (1, 2, 8), (1, 7, 11), (2, 3, 7), (2, 8, 2), (2, 5, 4), (3, 4, 9), (3, 5, 14), (4, 5, 10), (5, 6, 2), (6, 7, 1), (6, 8, 6), (7, 8, 7)])\n",
    "\n",
    "def check_parents(mst, parents, n):\n",
    "    for i in range(n):\n",
    "        if mst[i] != parents[i]:\n",
    "            return False\n",
    "    return True\n",
    "\n",
    "mst = prim( graph )\n",
    "sol1 = [None, 0, 1, 2, 3, 2, 5, 6, 2]\n",
    "sol2 = [None, 0, 5, 2, 3, 6, 7, 0, 2]\n",
    "\n",
    "assert check_parents(mst, sol1, 9) or check_parents(mst, sol2, 9)"
   ]
  },
  {
   "cell_type": "markdown",
   "metadata": {},
   "source": [
    "## Kruskal's Algorithm\n",
    "\n",
    "Next we implement the Kruskal's Minimum Spanning Tree algorithm. For doing that, we first need to implment the Union and Find algorithms."
   ]
  },
  {
   "cell_type": "code",
   "execution_count": null,
   "metadata": {},
   "outputs": [],
   "source": [
    "# the Union Find algorithms\n",
    "\n",
    "class UnionFind:\n",
    "    def __init__(self, nodes):\n",
    "        # nodes is a list of nodes. Associate an identifier for each node.\n",
    "        \n",
    "    def find(self, u):\n",
    "        # Return the representative element (identifier/label) for u\n",
    "        \n",
    "    def union(self, u, v):\n",
    "        # Make the representative elements correponding to u and v the same.\n",
    "        \n",
    "    \n",
    "    "
   ]
  },
  {
   "cell_type": "code",
   "execution_count": null,
   "metadata": {},
   "outputs": [],
   "source": [
    "# Test\n",
    "\n",
    "nodes = [2, 3, 4, 5, 6, 7]\n",
    "uf = UnionFind(nodes)\n",
    "\n",
    "for i in range(len(nodes)):\n",
    "    for j in range(i+1, len(nodes)):\n",
    "        assert uf.find(nodes[i]) != uf.find(nodes[j])\n",
    "        \n",
    "\n",
    "uf.union(4, 7)\n",
    "\n",
    "assert uf.find(4) == uf.find(7)\n",
    "\n",
    "uf.union(4, 2)\n",
    "\n",
    "assert uf.find(4) == uf.find(2) and uf.find(4) == uf.find(7)\n",
    "\n",
    "assert uf.find(4) != uf.find(5)\n",
    "assert uf.find(4) != uf.find(6)\n",
    "assert uf.find(4) != uf.find(3)\n",
    "\n",
    "uf.union(3, 5)\n",
    "\n",
    "assert uf.find(3) == uf.find(5)\n",
    "assert uf.find(4) != uf.find(3)\n",
    "assert uf.find(6) != uf.find(3)\n",
    "\n",
    "uf.union(5, 2)\n",
    "\n",
    "for k in [3, 4, 5, 7]:\n",
    "    assert uf.find(k) == uf.find(2)\n",
    "    \n",
    "assert uf.find(2) != uf.find(6)\n",
    "\n"
   ]
  },
  {
   "cell_type": "markdown",
   "metadata": {},
   "source": [
    "Using the UnionFind class, implement the Kruskal's algorithm in the following cell. Output the __set__ of edges included in the MST. Return the edges as pairs $(u, v)$."
   ]
  },
  {
   "cell_type": "code",
   "execution_count": null,
   "metadata": {},
   "outputs": [],
   "source": [
    "# Add any functions/classes as necessary.\n",
    "\n",
    "def kruskal(graph):\n",
    "    mst_edges = set()\n",
    "    \n",
    "    # Your code here\n",
    "    \n",
    "    # Return the MST.\n",
    "    return mst_edges\n",
    "    "
   ]
  },
  {
   "cell_type": "code",
   "execution_count": null,
   "metadata": {},
   "outputs": [],
   "source": [
    "# Test for Kruskal's \n",
    "\n",
    "mst = kruskal( graph )\n",
    "sol1 = set([(0, 1), (0, 7), (2, 8), (2, 5), (2, 3), (3, 4), (6, 7), (6, 5)])\n",
    "sol2 = set([(0, 1), (1, 2), (2, 8), (2, 5), (2, 3), (3, 4), (6, 7), (6, 5)])\n",
    "\n",
    "assert mst == sol1 or mst == sol2\n",
    "\n"
   ]
  }
 ],
 "metadata": {
  "kernelspec": {
   "display_name": "Python 3",
   "language": "python",
   "name": "python3"
  },
  "language_info": {
   "codemirror_mode": {
    "name": "ipython",
    "version": 3
   },
   "file_extension": ".py",
   "mimetype": "text/x-python",
   "name": "python",
   "nbconvert_exporter": "python",
   "pygments_lexer": "ipython3",
   "version": "3.7.0"
  }
 },
 "nbformat": 4,
 "nbformat_minor": 2
}
