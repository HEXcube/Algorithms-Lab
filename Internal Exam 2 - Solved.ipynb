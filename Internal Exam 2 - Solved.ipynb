{
 "cells": [
  {
   "cell_type": "markdown",
   "metadata": {},
   "source": [
    "## Instruction\n",
    "\n",
    "__Never__ use an additional import statement."
   ]
  },
  {
   "cell_type": "markdown",
   "metadata": {},
   "source": [
    "## The Graph Class\n",
    "\n",
    "The following class is used for inputting graphs"
   ]
  },
  {
   "cell_type": "code",
   "execution_count": 2,
   "metadata": {},
   "outputs": [],
   "source": [
    "class Graph:\n",
    "    def __init__(self, edges, directed=False):\n",
    "        self.adj_list = {}\n",
    "        self.directed = directed\n",
    "        \n",
    "        for u, v, k in edges:\n",
    "            self.add_edge(u, v, k)\n",
    "            \n",
    "    def _add_edge_single(self, u, v, k):\n",
    "        \"\"\"Internal function. Do not use directly.\n",
    "        Add a single edge to the graph.\n",
    "        \"\"\"\n",
    "        if u not in self.adj_list:\n",
    "            self.adj_list[u] = []\n",
    "        self.adj_list[u].append((v, k))        \n",
    "                \n",
    "    def add_edge(self, u, v, k):\n",
    "        \"\"\"Add an edge to the graph. Add the reverse edge \n",
    "        when the graph is undirected.\"\"\"\n",
    "        self._add_edge_single(u, v, k)\n",
    "        if not self.directed:\n",
    "            self._add_edge_single(v, u, k)\n",
    "    \n",
    "    def neighbors(self, u):\n",
    "        \"\"\"Return the list of neighbors and the \n",
    "        corresponding weights of u\"\"\"\n",
    "        return self.adj_list[u]\n",
    "    \n",
    "    \n",
    "    def vertices(self):\n",
    "        \"\"\"Return the set of vertices of the graph\"\"\"\n",
    "        return self.adj_list.keys()\n",
    "    "
   ]
  },
  {
   "cell_type": "markdown",
   "metadata": {},
   "source": [
    "# Question 1\n",
    "\n",
    "Implement the Kruskal's algorithm for computing minimum spanning tree. Your function should return the sum of the weights of all the edges _not_ present in the final MST."
   ]
  },
  {
   "cell_type": "code",
   "execution_count": null,
   "metadata": {},
   "outputs": [],
   "source": [
    "# Add any functions/classes as necessary.\n",
    "\n",
    "def kruskal_edge_sum(graph):\n",
    "    # return the sum of weights of edges missing from the final MST."
   ]
  },
  {
   "cell_type": "code",
   "execution_count": 90,
   "metadata": {},
   "outputs": [
    {
     "name": "stdout",
     "output_type": "stream",
     "text": [
      "{0: [(1, 4), (7, 8)], 1: [(0, 4), (2, 8), (7, 11)], 7: [(0, 8), (1, 11), (6, 1), (8, 7)], 2: [(1, 8), (3, 7), (8, 2), (5, 4)], 3: [(2, 7), (4, 9), (5, 14)], 8: [(2, 2), (6, 6), (7, 7)], 5: [(2, 4), (3, 14), (4, 10), (6, 2)], 4: [(3, 9), (5, 10)], 6: [(5, 2), (7, 1), (8, 6)]}\n",
      "{0: None, 1: 0, 2: 1, 8: 2, 5: 2, 6: 5, 7: 6, 3: 2, 4: 3}\n",
      "0\n",
      "1\n",
      "2\n",
      "8\n",
      "5\n",
      "6\n",
      "7\n",
      "3\n",
      "4\n"
     ]
    }
   ],
   "source": [
    "# Add any functions/classes as necessary.\n",
    "\n",
    "# q : (parent , weight)\n",
    "queue = {}\n",
    "\n",
    "def extract_min():\n",
    "    global queue\n",
    "    weightList = []\n",
    "    for i in queue:\n",
    "        weightList.append((queue[i][1], i))   \n",
    "    minTuple = min(weightList)\n",
    "    return(minTuple[1])\n",
    "\n",
    "\n",
    "def prim(graph, source=0):\n",
    "    # Your code here\n",
    "    global queue\n",
    "    pathDict = {}\n",
    "    \n",
    "    queue[source] = (None, 0)\n",
    "    \n",
    "    for i in graph.vertices() - [source]:\n",
    "        queue[i]= (None, float('inf'))\n",
    "\n",
    "    while queue:\n",
    "        minNode = extract_min()\n",
    "        parent = queue[minNode][0]\n",
    "        queue.pop(minNode)\n",
    "        pathDict[minNode] = parent\n",
    "\n",
    "        for v in graph.neighbors(minNode):\n",
    "            if v[0] in queue:\n",
    "                node = queue[v[0]]\n",
    "                if(node[1] > v[1]):\n",
    "                    queue[v[0]] = (minNode, v[1])\n",
    "    return pathDict\n",
    "\n",
    "\n",
    "graph = Graph([(0, 1, 4), (0, 7, 8), (1, 2, 8), (1, 7, 11), (2, 3, 7), (2, 8, 2), (2, 5, 4), (3, 4, 9), (3, 5, 14), (4, 5, 10), (5, 6, 2), (6, 7, 1), (6, 8, 6), (7, 8, 7)])\n",
    "\n",
    "minimumSpanningTree = prim(graph , 0)\n",
    "\n",
    "print(graph.adj_list)\n",
    "print(minimumSpanningTree)\n",
    "\n",
    "for i in minimumSpanningTree:\n",
    "    print(i)"
   ]
  },
  {
   "cell_type": "code",
   "execution_count": null,
   "metadata": {},
   "outputs": [],
   "source": [
    "# Test\n",
    "\n",
    "graph = Graph([(0, 1, 4), (0, 7, 8), (1, 2, 8), (1, 7, 11), (2, 3, 7), (2, 8, 2), (2, 5, 4), (3, 4, 9), (3, 5, 14), (4, 5, 10), (5, 6, 2), (6, 7, 1), (6, 8, 6), (7, 8, 7)])\n",
    "\n",
    "assert kruskal_edge_sum(graph) == 56\n"
   ]
  },
  {
   "cell_type": "markdown",
   "metadata": {},
   "source": [
    "# Question 2\n",
    "\n",
    "Implement the Dijkstra's algorithm. The weight of each node may change during execution of the algorithm. Your function should keep track of all the weights, not just the latest weight. The function should return a dictionary mapping nodes to their list of weights. Use Python's _float('inf')_ to represent infinite weights."
   ]
  },
  {
   "cell_type": "code",
   "execution_count": 88,
   "metadata": {},
   "outputs": [],
   "source": [
    "# Add any functions/classes as necessary.\n",
    "class PathWeight:\n",
    "    def __init__(self, name, parent, weight):\n",
    "        self.name = name     # node's name.\n",
    "        self.parent = parent # parent node's PathWeight object.\n",
    "        self.weight = weight\n",
    "\n",
    "\n",
    "queue = {}\n",
    "\n",
    "def extract_min():\n",
    "    \n",
    "    global queue\n",
    "    weightList = []\n",
    "    for i in queue:\n",
    "        weightList.append((queue[i].weight, queue[i]))\n",
    "        \n",
    "    minTuple = min(weightList)\n",
    "    return(minTuple[1])\n",
    "\n",
    "\n",
    "def dijkstra_trace(graph, s=0):\n",
    "    \n",
    "    global queue\n",
    "    pathDict = {}\n",
    "    traceDict = {}\n",
    "    source = PathWeight(s, None, 0)\n",
    "    queue[source.name] = source\n",
    "    traceDict[source.name] = [source.weight]\n",
    "\n",
    "    for i in graph.vertices() - [source.name]:\n",
    "        queue[i]= PathWeight(i, None, float('inf'))\n",
    "        traceDict[queue[i].name] = [queue[i].weight]\n",
    "        \n",
    "    while queue:\n",
    "        minNode = extract_min()\n",
    "        queue.pop(minNode.name)\n",
    "        pathDict[minNode.name] = minNode\n",
    "        \n",
    "        for v in graph.neighbors(minNode.name):\n",
    "            if v[0] in queue:\n",
    "                node = queue[v[0]]\n",
    "            if(node.weight > minNode.weight + v[1]):\n",
    "                node.parent = minNode\n",
    "                node.weight = minNode.weight + v[1]\n",
    "                traceDict[node.name].append(node.weight)\n",
    "    #return pathDict\n",
    "    return traceDict\n",
    "    "
   ]
  },
  {
   "cell_type": "code",
   "execution_count": 89,
   "metadata": {},
   "outputs": [],
   "source": [
    "# Test\n",
    "\n",
    "graph = Graph( [(0, 1, 10), (0, 4, 5), (1, 2, 1), (1, 4, 2), (2, 3, 4), (3, 2, 6), (3, 0, 7), (4, 1, 3), (4, 2, 9), (4, 3, 2)], directed=True )\n",
    "\n",
    "trace = dijkstra_trace(graph)\n",
    "\n",
    "inf = float('inf')\n",
    "\n",
    "assert trace[0] == [0]\n",
    "assert trace[1] == [inf, 10, 8]\n",
    "assert trace[2] == [inf, 14, 13, 9]\n",
    "assert trace[3] == [inf, 7]\n",
    "assert trace[4] == [inf, 5]"
   ]
  },
  {
   "cell_type": "code",
   "execution_count": 66,
   "metadata": {},
   "outputs": [
    {
     "name": "stdout",
     "output_type": "stream",
     "text": [
      "[(1, 10), (4, 5)]\n",
      "{0: [0], 1: [inf, 10, 8], 2: [inf, 14, 13, 9], 3: [inf, 7], 4: [inf, 5]}\n"
     ]
    }
   ],
   "source": [
    "print(graph.neighbors(0))\n",
    "# pathDict = dijkstra(graph, 0)\n",
    "\n",
    "# for i in pathDict:\n",
    "#     print(i, pathDict[i].name, pathDict[i].weight)\n",
    "\n",
    "print(trace)"
   ]
  },
  {
   "cell_type": "code",
   "execution_count": null,
   "metadata": {},
   "outputs": [],
   "source": []
  }
 ],
 "metadata": {
  "kernelspec": {
   "display_name": "Python 3",
   "language": "python",
   "name": "python3"
  },
  "language_info": {
   "codemirror_mode": {
    "name": "ipython",
    "version": 3
   },
   "file_extension": ".py",
   "mimetype": "text/x-python",
   "name": "python",
   "nbconvert_exporter": "python",
   "pygments_lexer": "ipython3",
   "version": "3.6.6"
  }
 },
 "nbformat": 4,
 "nbformat_minor": 2
}
