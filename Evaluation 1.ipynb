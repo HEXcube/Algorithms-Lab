{
 "cells": [
  {
   "cell_type": "markdown",
   "metadata": {},
   "source": [
    "# Lab Evaluation 1"
   ]
  },
  {
   "cell_type": "markdown",
   "metadata": {},
   "source": [
    "## Instructions\n",
    "\n",
    "For each of the questions, skeleton code is given. In some sections of the code there will be comments indicating the parts you have to complete. Do not edit any other part."
   ]
  },
  {
   "cell_type": "code",
   "execution_count": null,
   "metadata": {},
   "outputs": [],
   "source": [
    "# import statements. Do not add anything here!\n",
    "import matplotlib.pyplot as plt\n",
    "from math import pi, sqrt\n",
    "\n",
    "%matplotlib inline"
   ]
  },
  {
   "cell_type": "markdown",
   "metadata": {},
   "source": [
    "## Question\n",
    "\n",
    "1) The trignometric function $\\cos{(x)}$ can be computed using the infinite series $1 - \\frac{x^2}{2!} + \\frac{x^4}{4!} - \\frac{x^6}{6!} + \\frac{x^8}{8!} - \\dots $, where $x$ is the angle in radians. Complete the function *mycos* which takes in two arguments: $x$, an angle in radians and a $\\text{delta}$. In the function, compute the series until the absolute values of terms get smaller than $\\text{delta}$."
   ]
  },
  {
   "cell_type": "code",
   "execution_count": 2,
   "metadata": {},
   "outputs": [],
   "source": [
    "def mycos(x, delta):\n",
    "    \n",
    "    # Your code after this line.\n"
   ]
  },
  {
   "cell_type": "markdown",
   "metadata": {},
   "source": [
    "## Question\n",
    "2) Complete the function $\\text{mycosD}$, which is just like $\\text{mycos}$, but takes in the angle in degrees. Remember that $2\\pi$ radians is equal to $360$ degrees. You can use $\\text{pi}$ in Python to get the value of $\\pi$."
   ]
  },
  {
   "cell_type": "code",
   "execution_count": null,
   "metadata": {},
   "outputs": [],
   "source": [
    "def mycosD(x, delta):\n",
    "    # x is in degrees. Convert it to radians\n",
    "    x_rad = # Your code\n",
    "    return mycos(x_rad, delta)"
   ]
  },
  {
   "cell_type": "markdown",
   "metadata": {},
   "source": [
    "## Question\n",
    "3) Make a list of cosine values."
   ]
  },
  {
   "cell_type": "code",
   "execution_count": 1,
   "metadata": {},
   "outputs": [],
   "source": [
    "cos_list = []\n",
    "\n",
    "# Populate the list so that cos_list = [cos(0), cos(0.1), cos(0.2), .... cos(89.7), cos(89.8), cos(89.9), cos(90.0)], \n",
    "#   where the angle is in degrees\n",
    "\n",
    "# Your code after this line."
   ]
  },
  {
   "cell_type": "markdown",
   "metadata": {},
   "source": [
    "## Question\n",
    "4) Using the identity $\\cos^2{(x)} + \\sin^2{(x)} = 1$, compute a corresponding list of sines. "
   ]
  },
  {
   "cell_type": "code",
   "execution_count": null,
   "metadata": {},
   "outputs": [],
   "source": [
    "sin_list = []\n",
    "\n",
    "# Your code after this line."
   ]
  },
  {
   "cell_type": "markdown",
   "metadata": {},
   "source": [
    "## Question\n",
    "5) Plot $\\cos{(x)}$ vs $\\sin{(x)}$ using the two lists $\\text{cos_list}$ and $\\text{sin_list}$"
   ]
  },
  {
   "cell_type": "code",
   "execution_count": null,
   "metadata": {},
   "outputs": [],
   "source": [
    "# Your code after this line\n"
   ]
  }
 ],
 "metadata": {
  "kernelspec": {
   "display_name": "Python 3",
   "language": "python",
   "name": "python3"
  },
  "language_info": {
   "codemirror_mode": {
    "name": "ipython",
    "version": 3
   },
   "file_extension": ".py",
   "mimetype": "text/x-python",
   "name": "python",
   "nbconvert_exporter": "python",
   "pygments_lexer": "ipython3",
   "version": "3.7.0"
  }
 },
 "nbformat": 4,
 "nbformat_minor": 2
}
