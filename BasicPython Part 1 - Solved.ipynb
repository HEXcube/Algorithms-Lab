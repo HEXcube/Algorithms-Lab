{
 "cells": [
  {
   "cell_type": "markdown",
   "metadata": {},
   "source": [
    "# Introduction to Python"
   ]
  },
  {
   "cell_type": "markdown",
   "metadata": {},
   "source": [
    "## Printing"
   ]
  },
  {
   "cell_type": "markdown",
   "metadata": {},
   "source": [
    "For printing anything in Python, we can use the \"print\" statement."
   ]
  },
  {
   "cell_type": "code",
   "execution_count": 10,
   "metadata": {},
   "outputs": [
    {
     "name": "stdout",
     "output_type": "stream",
     "text": [
      "23\n"
     ]
    }
   ],
   "source": [
    "print(23)"
   ]
  },
  {
   "cell_type": "code",
   "execution_count": 9,
   "metadata": {},
   "outputs": [
    {
     "name": "stdout",
     "output_type": "stream",
     "text": [
      "hello, world\n"
     ]
    }
   ],
   "source": [
    "print(\"hello, world\")"
   ]
  },
  {
   "cell_type": "markdown",
   "metadata": {},
   "source": [
    "We can print multiple objects at the same time by using commas."
   ]
  },
  {
   "cell_type": "code",
   "execution_count": 16,
   "metadata": {},
   "outputs": [
    {
     "name": "stdout",
     "output_type": "stream",
     "text": [
      "hello world\n"
     ]
    }
   ],
   "source": [
    "print(\"hello\", \"world\")"
   ]
  },
  {
   "cell_type": "code",
   "execution_count": 8,
   "metadata": {},
   "outputs": [
    {
     "name": "stdout",
     "output_type": "stream",
     "text": [
      "3 4 hello 5\n"
     ]
    }
   ],
   "source": [
    "print(3, 4, \"hello\", 5)"
   ]
  },
  {
   "cell_type": "markdown",
   "metadata": {},
   "source": [
    "## Variables"
   ]
  },
  {
   "cell_type": "code",
   "execution_count": 1,
   "metadata": {},
   "outputs": [
    {
     "name": "stdout",
     "output_type": "stream",
     "text": [
      "My value is 5\n"
     ]
    }
   ],
   "source": [
    "a = 5\n",
    "b = \"My value is\"\n",
    "print(b, a)"
   ]
  },
  {
   "cell_type": "markdown",
   "metadata": {},
   "source": [
    "Once a variable is defined, you can use it anywhere."
   ]
  },
  {
   "cell_type": "code",
   "execution_count": 11,
   "metadata": {},
   "outputs": [
    {
     "name": "stdout",
     "output_type": "stream",
     "text": [
      "5\n"
     ]
    }
   ],
   "source": [
    "print(a)"
   ]
  },
  {
   "cell_type": "markdown",
   "metadata": {},
   "source": [
    "## Operations\n"
   ]
  },
  {
   "cell_type": "markdown",
   "metadata": {},
   "source": [
    "The basic operations for addition, subtraction, multiplication and division are illustrated below."
   ]
  },
  {
   "cell_type": "code",
   "execution_count": 14,
   "metadata": {},
   "outputs": [
    {
     "name": "stdout",
     "output_type": "stream",
     "text": [
      "103 97 300 33.333333333333336\n"
     ]
    }
   ],
   "source": [
    "x = 100\n",
    "y = 3\n",
    "z1 = x + y\n",
    "z2 = x - y\n",
    "z3 = x * y\n",
    "z4 = x/y\n",
    "print(z1, z2, z3, z4)"
   ]
  },
  {
   "cell_type": "markdown",
   "metadata": {},
   "source": [
    "### Floating Point Division"
   ]
  },
  {
   "cell_type": "markdown",
   "metadata": {},
   "source": [
    "Numbers are of two types: integers and floating-point numbers (fractional numbers).\n",
    "\n",
    "When one integer divides another, only the quotient is returned:"
   ]
  },
  {
   "cell_type": "code",
   "execution_count": 11,
   "metadata": {},
   "outputs": [
    {
     "name": "stdout",
     "output_type": "stream",
     "text": [
      "3\n"
     ]
    }
   ],
   "source": [
    "print(22//7) # Integer division"
   ]
  },
  {
   "cell_type": "markdown",
   "metadata": {},
   "source": [
    "The $#$ sign indicates a comment and anything that comes after a $#$ sign is not evaluated.\n",
    "\n",
    "In contrast, when one of the numbers is a floating point number, Python returns the full decimal result."
   ]
  },
  {
   "cell_type": "code",
   "execution_count": 12,
   "metadata": {},
   "outputs": [
    {
     "name": "stdout",
     "output_type": "stream",
     "text": [
      "3.142857142857143\n"
     ]
    }
   ],
   "source": [
    "print(22/7) # floating point division"
   ]
  },
  {
   "cell_type": "markdown",
   "metadata": {},
   "source": [
    "The operator $\\%$ is used to compute the remainder, as shown below."
   ]
  },
  {
   "cell_type": "code",
   "execution_count": 15,
   "metadata": {
    "scrolled": true
   },
   "outputs": [
    {
     "name": "stdout",
     "output_type": "stream",
     "text": [
      "The remainder when x is divided by y is 1\n"
     ]
    }
   ],
   "source": [
    "z6 = x % y\n",
    "print(\"The remainder when x is divided by y is\", z6)"
   ]
  },
  {
   "cell_type": "markdown",
   "metadata": {},
   "source": [
    "## Questions\n",
    "1) Compute $x^2 + y^2$ and print its value.\n",
    "\n",
    "2) Print the average of $x$ and $y$\n",
    "\n",
    "3) Compute the remainder when 1000 is divided by 7."
   ]
  },
  {
   "cell_type": "code",
   "execution_count": 26,
   "metadata": {},
   "outputs": [
    {
     "name": "stdout",
     "output_type": "stream",
     "text": [
      "100 3 10009\n"
     ]
    }
   ],
   "source": [
    "# Question 1\n",
    "z = x*x + y*y\n",
    "print(x,y,z)"
   ]
  },
  {
   "cell_type": "code",
   "execution_count": 27,
   "metadata": {},
   "outputs": [
    {
     "name": "stdout",
     "output_type": "stream",
     "text": [
      "51.5\n"
     ]
    }
   ],
   "source": [
    "# Question 2\n",
    "print((x+y)/2)"
   ]
  },
  {
   "cell_type": "code",
   "execution_count": 28,
   "metadata": {},
   "outputs": [
    {
     "name": "stdout",
     "output_type": "stream",
     "text": [
      "6\n"
     ]
    }
   ],
   "source": [
    "# Question 3\n",
    "\n",
    "print(1000%7)"
   ]
  },
  {
   "cell_type": "markdown",
   "metadata": {},
   "source": [
    "## Functions"
   ]
  },
  {
   "cell_type": "code",
   "execution_count": 2,
   "metadata": {},
   "outputs": [
    {
     "name": "stdout",
     "output_type": "stream",
     "text": [
      "11\n"
     ]
    }
   ],
   "source": [
    "def f(n):\n",
    "    return n+1\n",
    "\n",
    "print(f(10))"
   ]
  },
  {
   "cell_type": "code",
   "execution_count": 3,
   "metadata": {},
   "outputs": [
    {
     "name": "stdout",
     "output_type": "stream",
     "text": [
      "145\n"
     ]
    }
   ],
   "source": [
    "def g(n):\n",
    "    return n*n + 1\n",
    "\n",
    "print(g(12))"
   ]
  },
  {
   "cell_type": "markdown",
   "metadata": {},
   "source": [
    "## Questions\n",
    "4) What is the formula for $f(g(n))$?\n",
    "\n",
    "5) What is the formula for $g(f(n))$?"
   ]
  },
  {
   "cell_type": "code",
   "execution_count": 4,
   "metadata": {},
   "outputs": [
    {
     "name": "stdout",
     "output_type": "stream",
     "text": [
      "102\n"
     ]
    }
   ],
   "source": [
    "print(f(g(10)))"
   ]
  },
  {
   "cell_type": "code",
   "execution_count": 33,
   "metadata": {},
   "outputs": [
    {
     "name": "stdout",
     "output_type": "stream",
     "text": [
      "122\n"
     ]
    }
   ],
   "source": [
    "print(g(f(10)))"
   ]
  },
  {
   "cell_type": "markdown",
   "metadata": {},
   "source": [
    "### Functions with more than one arguments"
   ]
  },
  {
   "cell_type": "code",
   "execution_count": 34,
   "metadata": {},
   "outputs": [
    {
     "name": "stdout",
     "output_type": "stream",
     "text": [
      "15\n",
      "50\n"
     ]
    }
   ],
   "source": [
    "def add(x, y):\n",
    "    return x+y\n",
    "\n",
    "def sum_squares(x, y, z):\n",
    "    return x*x + y*y + z*z\n",
    "\n",
    "print(add(10, 5))\n",
    "print(sum_squares(3, 4, 5))"
   ]
  },
  {
   "cell_type": "markdown",
   "metadata": {},
   "source": [
    "## Conditions"
   ]
  },
  {
   "cell_type": "code",
   "execution_count": 17,
   "metadata": {},
   "outputs": [
    {
     "name": "stdout",
     "output_type": "stream",
     "text": [
      "My value is 10\n"
     ]
    }
   ],
   "source": [
    "a = 10\n",
    "if a == 10:\n",
    "    print(\"My value is 10\")\n",
    "else:\n",
    "    print(\"My value is not 10\")"
   ]
  },
  {
   "cell_type": "markdown",
   "metadata": {},
   "source": [
    "## Question\n",
    "6) Change the value of $a$ and run the code again."
   ]
  },
  {
   "cell_type": "code",
   "execution_count": 18,
   "metadata": {},
   "outputs": [
    {
     "name": "stdout",
     "output_type": "stream",
     "text": [
      "My value is less than 10\n"
     ]
    }
   ],
   "source": [
    "b = 5\n",
    "if b < 10:\n",
    "    print(\"My value is less than 10\")\n",
    "elif b == 10:\n",
    "    print(\"My value is equal to 10\")\n",
    "else:\n",
    "    print(\"My value is greater than 10\")"
   ]
  },
  {
   "cell_type": "markdown",
   "metadata": {},
   "source": [
    "### Question\n",
    "7) Run the code for various values of $b$."
   ]
  },
  {
   "cell_type": "code",
   "execution_count": 35,
   "metadata": {},
   "outputs": [
    {
     "name": "stdout",
     "output_type": "stream",
     "text": [
      "My value is not equal to 10\n"
     ]
    }
   ],
   "source": [
    "b = 2\n",
    "if b > 5:\n",
    "    print(\"My value is greater than 10\")\n",
    "elif b != 5:\n",
    "    print(\"My value is not equal to 10\")\n",
    "else:\n",
    "    print(\"My value is less than 10\")"
   ]
  },
  {
   "cell_type": "markdown",
   "metadata": {},
   "source": [
    "## Conditions inside functions"
   ]
  },
  {
   "cell_type": "code",
   "execution_count": 20,
   "metadata": {},
   "outputs": [
    {
     "name": "stdout",
     "output_type": "stream",
     "text": [
      "My value is less than or equal to 100\n",
      "None\n",
      "My value is less than or equal to 100\n",
      "None\n",
      "My value is greater than 100\n",
      "None\n"
     ]
    }
   ],
   "source": [
    "def check_value(n):\n",
    "    if n <= 100:\n",
    "        print(\"My value is less than or equal to 100\")\n",
    "    else:\n",
    "        print(\"My value is greater than 100\")\n",
    "\n",
    "print(check_value(89))\n",
    "print(check_value(100))\n",
    "print(check_value(500))\n",
    "    "
   ]
  },
  {
   "cell_type": "code",
   "execution_count": 7,
   "metadata": {},
   "outputs": [],
   "source": [
    "def maximum2(x, y):\n",
    "    if x >= y:\n",
    "        return x\n",
    "    else:\n",
    "        return y\n",
    "    "
   ]
  },
  {
   "cell_type": "markdown",
   "metadata": {},
   "source": [
    "## Questions\n",
    "8) Try out maximum2 for various inputs.\n",
    "\n",
    "9) Write a function maximum3 which will return the maximum of three arguments $x, y, z$.\n",
    "\n",
    "10) Write a function which takes a number $n$ as argument and checks whether it is even or odd. If $n$ is odd, return $3n+1$. If $n$ is even, return $n/2$.\n"
   ]
  },
  {
   "cell_type": "code",
   "execution_count": 38,
   "metadata": {},
   "outputs": [
    {
     "name": "stdout",
     "output_type": "stream",
     "text": [
      "8\n",
      "134\n",
      "56.8\n"
     ]
    }
   ],
   "source": [
    "# Question 8\n",
    "\n",
    "print(maximum2(8, 3))\n",
    "print(maximum2(134, 67))\n",
    "print(maximum2(56.8, 34))"
   ]
  },
  {
   "cell_type": "code",
   "execution_count": 10,
   "metadata": {},
   "outputs": [
    {
     "name": "stdout",
     "output_type": "stream",
     "text": [
      "9\n"
     ]
    }
   ],
   "source": [
    "# Question 9\n",
    "def maximum3(x, y, z):\n",
    "    temp = x\n",
    "    if y > x:\n",
    "        temp = y\n",
    "    if z > temp:\n",
    "        temp = z\n",
    "\n",
    "    return temp\n",
    "    \n",
    "print(maximum3(8, 9, 4))"
   ]
  },
  {
   "cell_type": "code",
   "execution_count": 17,
   "metadata": {},
   "outputs": [
    {
     "name": "stdout",
     "output_type": "stream",
     "text": [
      "4.0\n"
     ]
    }
   ],
   "source": [
    "# Question 10\n",
    "def oddoreven(n):\n",
    "    if n%2:\n",
    "        return 3*n+1\n",
    "    else:\n",
    "        return n/2\n",
    "\n",
    "print(oddoreven(8))"
   ]
  },
  {
   "cell_type": "markdown",
   "metadata": {},
   "source": [
    "# Updating Variables"
   ]
  },
  {
   "cell_type": "code",
   "execution_count": 6,
   "metadata": {},
   "outputs": [
    {
     "name": "stdout",
     "output_type": "stream",
     "text": [
      "a is  10\n",
      "now a is 15\n",
      "now a is 30\n",
      "now a is 1000\n"
     ]
    }
   ],
   "source": [
    "a = 10\n",
    "print(\"a is \", a)\n",
    "a = a + 5\n",
    "print(\"now a is\", a)\n",
    "a = a * 2\n",
    "print(\"now a is\", a)\n",
    "a = a * a + 100\n",
    "print(\"now a is\", a)"
   ]
  },
  {
   "cell_type": "markdown",
   "metadata": {},
   "source": [
    "## Repeating Stuff"
   ]
  },
  {
   "cell_type": "code",
   "execution_count": 4,
   "metadata": {},
   "outputs": [
    {
     "name": "stdout",
     "output_type": "stream",
     "text": [
      "The value of 'i' is: 0\n",
      "The value of 'i' is: 1\n",
      "The value of 'i' is: 2\n",
      "The value of 'i' is: 3\n",
      "The value of 'i' is: 4\n"
     ]
    }
   ],
   "source": [
    "i = 0\n",
    "while i < 5:\n",
    "    print(\"The value of 'i' is:\", i)\n",
    "    i = i + 1"
   ]
  },
  {
   "cell_type": "markdown",
   "metadata": {},
   "source": [
    "Now we will see a program to compute the sum of integers from 1, 2, 3, to 100."
   ]
  },
  {
   "cell_type": "code",
   "execution_count": 3,
   "metadata": {},
   "outputs": [
    {
     "name": "stdout",
     "output_type": "stream",
     "text": [
      "5050\n"
     ]
    }
   ],
   "source": [
    "s = 0\n",
    "i = 1\n",
    "while i <= 100:\n",
    "    s = s + i\n",
    "    i = i + 1\n",
    "print(s)"
   ]
  },
  {
   "cell_type": "markdown",
   "metadata": {},
   "source": [
    "We will generalize the above code by writing a function."
   ]
  },
  {
   "cell_type": "code",
   "execution_count": 5,
   "metadata": {},
   "outputs": [
    {
     "name": "stdout",
     "output_type": "stream",
     "text": [
      "500500\n"
     ]
    }
   ],
   "source": [
    "def sum_first_n(n):\n",
    "    s = 0\n",
    "    i = 1\n",
    "    while i <= n:\n",
    "        s += i     # See the remark below\n",
    "        i += 1\n",
    "    return s\n",
    "\n",
    "print(sum_first_n(1000))"
   ]
  },
  {
   "cell_type": "markdown",
   "metadata": {},
   "source": [
    "### Remark\n",
    "The statement $x$ += $y$ is equivalent to $x = x + y$"
   ]
  },
  {
   "cell_type": "markdown",
   "metadata": {},
   "source": [
    "# Questions\n",
    "11) Factorial of a number $n$ is the product of all natural numbers from 1 upto $n$. For example, factorial(1) is 1, factorial(2) is 2 and factorial(3) is 6. Write a function to compute the factorial of a number.\n",
    "\n",
    "12) Write a function to compute the sum of first $n$ odd numbers. \n",
    "\n",
    "13) Fibonacci numbers are $1, 1, 2, 3, 5, 8, 13, 21, 34, 55, \\dots$, where every number is the sum of the previous two fibonacci numbers. Write a function to compute the $n^\\text{th}$ Fibonacci number."
   ]
  },
  {
   "cell_type": "code",
   "execution_count": 1,
   "metadata": {},
   "outputs": [
    {
     "name": "stdout",
     "output_type": "stream",
     "text": [
      "6\n"
     ]
    }
   ],
   "source": [
    "# Question 11\n",
    "\n",
    "def factorial(n):\n",
    "    fact = 1\n",
    "    i = 1\n",
    "    while i <= n:\n",
    "        fact = fact * i\n",
    "        i=i+1\n",
    "    return fact\n",
    "\n",
    "print(factorial(3))"
   ]
  },
  {
   "cell_type": "code",
   "execution_count": 24,
   "metadata": {},
   "outputs": [
    {
     "name": "stdout",
     "output_type": "stream",
     "text": [
      "9\n"
     ]
    }
   ],
   "source": [
    "# Question 12\n",
    "def sumofodd(n):\n",
    "    i = 1\n",
    "    oddnum = 1\n",
    "    sum = 0\n",
    "    while i <= n:\n",
    "        sum = sum + oddnum\n",
    "        oddnum = oddnum + 2\n",
    "        i=i+1\n",
    "    return sum\n",
    "\n",
    "print(sumofodd(3))"
   ]
  },
  {
   "cell_type": "code",
   "execution_count": 1,
   "metadata": {},
   "outputs": [
    {
     "name": "stdout",
     "output_type": "stream",
     "text": [
      "8\n"
     ]
    }
   ],
   "source": [
    "# Question 13\n",
    "def fibonacci(n):\n",
    "    current = 1\n",
    "    previous = 1\n",
    "    i = 0\n",
    "    fib = 0\n",
    "    \n",
    "    if (n < 3):\n",
    "        return 1\n",
    "    else:\n",
    "        n = n - 2\n",
    "\n",
    "    while i < n:\n",
    "        fib = current + previous\n",
    "        i += 1\n",
    "        previous = current\n",
    "        current = fib\n",
    "    return fib\n",
    "\n",
    "print(fibonacci(6))"
   ]
  }
 ],
 "metadata": {
  "kernelspec": {
   "display_name": "Python 3",
   "language": "python",
   "name": "python3"
  },
  "language_info": {
   "codemirror_mode": {
    "name": "ipython",
    "version": 3
   },
   "file_extension": ".py",
   "mimetype": "text/x-python",
   "name": "python",
   "nbconvert_exporter": "python",
   "pygments_lexer": "ipython3",
   "version": "3.6.6"
  }
 },
 "nbformat": 4,
 "nbformat_minor": 2
}
