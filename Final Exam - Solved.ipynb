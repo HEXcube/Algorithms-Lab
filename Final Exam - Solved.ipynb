{
 "cells": [
  {
   "cell_type": "markdown",
   "metadata": {},
   "source": [
    "# Final Exam\n",
    "\n",
    "## Instructions\n",
    "1) Never use an _import_ statement.\n",
    "\n",
    "2) There are no marks for just printing your output. Always return the output using the appropriate data-structures.\n",
    "\n",
    "3) Do not edit the Test cells! If you want to add your own tests, please add a new cell.\n",
    "\n",
    "4) A variable named 'marks' is used for storing your marks for each question. Any attempt to modify the variable directly can result in the cancellation of your exam.\n",
    "\n"
   ]
  },
  {
   "cell_type": "markdown",
   "metadata": {},
   "source": [
    "## Student Details:\n",
    "\n",
    "Name: Rohan Villoth\n",
    "\n",
    "Roll Number: 43618014\n"
   ]
  },
  {
   "cell_type": "markdown",
   "metadata": {},
   "source": [
    "## Initialization\n",
    "\n",
    "Run the next cell exactly once."
   ]
  },
  {
   "cell_type": "code",
   "execution_count": 1,
   "metadata": {},
   "outputs": [],
   "source": [
    "# for storing marks. Run only once!\n",
    "\n",
    "marks = [0.0] * 6"
   ]
  },
  {
   "cell_type": "markdown",
   "metadata": {},
   "source": [
    "## Your Marks\n",
    "\n",
    "After the exam, run the cell below to know your marks."
   ]
  },
  {
   "cell_type": "code",
   "execution_count": 17,
   "metadata": {},
   "outputs": [
    {
     "name": "stdout",
     "output_type": "stream",
     "text": [
      "Your marks:\n",
      "Question 1: 8.0 marks\n",
      "Question 2: 8.0 marks\n",
      "Question 3: 8.0 marks\n",
      "Question 4: 8.0 marks\n",
      "Question 5: 3.2 marks\n",
      "Total marks: 35.2 (out of 40)\n"
     ]
    }
   ],
   "source": [
    "print(\"Your marks:\")\n",
    "for i in range(1,6):\n",
    "    print(\"Question {0}: {1:.1f} marks\".format(i, marks[i]))\n",
    "print(\"Total marks: {0:.1f} (out of 40)\".format(sum(marks)))"
   ]
  },
  {
   "cell_type": "markdown",
   "metadata": {},
   "source": [
    "## Question 1\n",
    "Consider the series $1, 3, 7, 17, 41, \\dots$. The nth element of this series ($t_n$) is given by $2t_{n-1}+t_{n-2}$. Write a function which takes $n$ as input and returns the nth element. The 0th and 1st elements are 1 and 3, respectively."
   ]
  },
  {
   "cell_type": "code",
   "execution_count": 3,
   "metadata": {},
   "outputs": [
    {
     "name": "stdout",
     "output_type": "stream",
     "text": [
      "99\n"
     ]
    }
   ],
   "source": [
    "# Computed outputs are stored in a dictionary to improve efficiency (Dynamic Programming)\n",
    "outputDict = {}\n",
    "finishedNumber = 1\n",
    "\n",
    "def nth_elem(n):\n",
    "    global outputDict\n",
    "    global finishedNumber\n",
    "    if(n == 0):\n",
    "        return 1\n",
    "    elif (n == 1):\n",
    "        return 3\n",
    "    else:\n",
    "        if finishedNumber > n:\n",
    "            return outputDict[n]\n",
    "        else:\n",
    "            output = 2*nth_elem(n - 1) + nth_elem(n - 2)\n",
    "            outputDict[n] = output\n",
    "            finishedNumber = n\n",
    "            return output\n",
    "        \n",
    "print(nth_elem(5))"
   ]
  },
  {
   "cell_type": "code",
   "execution_count": 4,
   "metadata": {},
   "outputs": [
    {
     "name": "stdout",
     "output_type": "stream",
     "text": [
      "Your code passed all the tests. Well done!\n",
      "Marks for this question: 8.0\n",
      "Total marks so far: 8.0\n"
     ]
    }
   ],
   "source": [
    "#Tests\n",
    "\n",
    "qn_id = 1\n",
    "marks[qn_id] = 0\n",
    "part_marks = 1.6\n",
    "part_id = 0\n",
    "num_errors = 0\n",
    "\n",
    "\n",
    "# Test 1\n",
    "part_id += 1\n",
    "try:\n",
    "    assert nth_elem(0) == 1 and nth_elem(1) == 3\n",
    "    marks[qn_id] += part_marks\n",
    "except:\n",
    "    num_errors += 1\n",
    "    print(\"Your code did not pass test #{0}\".format(part_id))\n",
    "\n",
    "\n",
    "# Test 2\n",
    "part_id += 1\n",
    "try:\n",
    "    assert nth_elem(3) == 17\n",
    "    marks[qn_id] += part_marks\n",
    "except:\n",
    "    num_errors += 1\n",
    "    print(\"Your code did not pass test #{0}\".format(part_id))\n",
    "\n",
    "\n",
    "# Test 3\n",
    "part_id += 1\n",
    "try:\n",
    "    assert nth_elem(5) == 99\n",
    "    marks[qn_id] += part_marks\n",
    "except:\n",
    "    num_errors += 1\n",
    "    print(\"Your code did not pass test #{0}\".format(part_id))\n",
    "\n",
    "\n",
    "# Test 4\n",
    "part_id += 1\n",
    "try:\n",
    "    assert nth_elem(50) == 16616132878186749607\n",
    "    marks[qn_id] += part_marks\n",
    "except:\n",
    "    num_errors += 1\n",
    "    print(\"Your code did not pass test #{0}\".format(part_id))\n",
    "\n",
    "\n",
    "# Test 5\n",
    "part_id += 1\n",
    "try:\n",
    "    assert nth_elem(100) == 228725309250740208744750893347264645481\n",
    "    marks[qn_id] += part_marks\n",
    "except:\n",
    "    num_errors += 1\n",
    "    print(\"Your code did not pass test #{0}\".format(part_id))\n",
    "\n",
    "if num_errors == 0:\n",
    "    print(\"Your code passed all the tests. Well done!\")\n",
    "\n",
    "print(\"Marks for this question: {0:.1f}\".format( marks[qn_id] ))\n",
    "print(\"Total marks so far: {0:.1f}\".format( sum(marks) ))\n"
   ]
  },
  {
   "cell_type": "markdown",
   "metadata": {},
   "source": [
    "## Question 2\n",
    "Your function will be given a list of unique numbers and an integer $k$. Return the $k^\\text{th}$ largest number.\n",
    "\n",
    "Example: If the list is $[4,8, 1, 5]$, and $k$ is 0, the function should return 8. For $k=1$, the result should be 5, for $k=2$ it should be 4 etc. If there is no $k^\\text{th}$ largest number, return None."
   ]
  },
  {
   "cell_type": "code",
   "execution_count": 5,
   "metadata": {},
   "outputs": [],
   "source": [
    "def descendingSort(unsortedList):\n",
    "    decreasingList = []\n",
    "    length = len(unsortedList)\n",
    "    for i in range(length):\n",
    "        max_element = max(unsortedList)\n",
    "        decreasingList.append(max_element)\n",
    "        max_element_index = unsortedList.index(max_element)\n",
    "        unsortedList.pop(max_element_index)\n",
    "    return decreasingList\n",
    "\n",
    "def kth_largest_num(num_list, k):\n",
    "    descendingList = descendingSort(num_list)\n",
    "    length = len(descendingList) - 1\n",
    "    if k > length:\n",
    "        return None\n",
    "    else:\n",
    "        return descendingList[k]"
   ]
  },
  {
   "cell_type": "code",
   "execution_count": 6,
   "metadata": {},
   "outputs": [
    {
     "name": "stdout",
     "output_type": "stream",
     "text": [
      "4\n",
      "5\n",
      "0\n",
      "1\n",
      "2\n",
      "3\n"
     ]
    },
    {
     "data": {
      "text/plain": [
       "112"
      ]
     },
     "execution_count": 6,
     "metadata": {},
     "output_type": "execute_result"
    }
   ],
   "source": [
    "alist = [1, 2, 3, 5]\n",
    "print(len(alist))\n",
    "print(max(alist))\n",
    "for i in range(len(alist)):\n",
    "    print(i)\n",
    "\n",
    "kth_largest_num([78, 11, 112], 0)"
   ]
  },
  {
   "cell_type": "code",
   "execution_count": 7,
   "metadata": {},
   "outputs": [
    {
     "name": "stdout",
     "output_type": "stream",
     "text": [
      "Your code passed all the tests. Well done!\n",
      "Marks for this question: 8.0\n",
      "Total marks so far: 16.0\n"
     ]
    }
   ],
   "source": [
    "#Tests\n",
    "\n",
    "qn_id = 2\n",
    "marks[qn_id] = 0\n",
    "part_marks = 1.6\n",
    "part_id = 0\n",
    "num_errors = 0\n",
    "\n",
    "\n",
    "# Test 1\n",
    "part_id += 1\n",
    "try:\n",
    "    assert kth_largest_num([], 2) == None and kth_largest_num([1], 2) == None\n",
    "    marks[qn_id] += part_marks\n",
    "except:\n",
    "    num_errors += 1\n",
    "    print(\"Your code did not pass test #{0}\".format(part_id))\n",
    "\n",
    "\n",
    "# Test 2\n",
    "part_id += 1\n",
    "try:\n",
    "    assert kth_largest_num([2], 0) == 2 and kth_largest_num([78, 11, 112], 0) == 112 and kth_largest_num([137, 140, 25, 144, 85, 92, 134, 36, 147, 188, 106, 146, 65, 196, 28, 37, 127, 30, 64, 153, 60, 189, 143, 128, 91, 19, 98, 41, 100, 15, 139, 110, 14, 198, 104, 21, 95, 97, 45, 114, 31, 121, 199, 82, 94, 88, 157, 43, 46, 83, 87, 112, 191, 180, 51, 125, 123, 122, 107, 193, 12, 156, 78, 68, 149, 108, 171, 184, 49, 182, 55, 50, 118, 159, 192, 76, 39, 148, 59, 151, 141, 70, 47, 194, 38, 155, 57, 186, 17, 169, 20, 61, 176, 71, 202, 181, 40, 162, 27, 116], 0) == 202\n",
    "    marks[qn_id] += part_marks\n",
    "except:\n",
    "    num_errors += 1\n",
    "    print(\"Your code did not pass test #{0}\".format(part_id))\n",
    "\n",
    "\n",
    "# Test 3\n",
    "part_id += 1\n",
    "try:\n",
    "    assert kth_largest_num([17, 104, 92, 68, 33, 53, 48, 78, 69, 31, 102, 15, 74, 75, 90, 60, 100, 46, 76, 99, 34, 65, 91, 18, 72, 28, 35, 95, 27, 101, 12, 97, 73, 64, 51, 54, 22, 30, 16, 80, 38, 58, 40, 43, 41, 82, 84, 24, 39, 23], 6) == 95\n",
    "    marks[qn_id] += part_marks\n",
    "except:\n",
    "    num_errors += 1\n",
    "    print(\"Your code did not pass test #{0}\".format(part_id))\n",
    "\n",
    "\n",
    "# Test 4\n",
    "part_id += 1\n",
    "try:\n",
    "    assert kth_largest_num([185, 173, 192, 141, 59, 84, 41, 93, 40, 16, 34, 114, 55, 57, 33, 104, 130, 198, 97, 131, 37, 156, 146, 106, 152, 122, 147, 20, 184, 30, 179, 150, 86, 123, 164, 140, 36, 75, 115, 47, 48, 22, 76, 134, 159, 109, 110, 91, 60, 21, 78, 62, 67, 112, 28, 144, 116, 204, 94, 175, 107, 98, 119, 202, 137, 32, 102, 142, 153, 38, 167, 191, 127, 129, 69, 193, 160, 174, 139, 58, 35, 61, 42, 163, 126, 125, 49, 80, 157, 135, 85, 197, 14, 201, 74, 196, 113, 17, 176, 177], 80) == 48\n",
    "    marks[qn_id] += part_marks\n",
    "except:\n",
    "    num_errors += 1\n",
    "    print(\"Your code did not pass test #{0}\".format(part_id))\n",
    "\n",
    "\n",
    "# Test 5\n",
    "part_id += 1\n",
    "try:\n",
    "    assert kth_largest_num([185, 173, 192, 141, 59, 84, 41, 93, 40, 16, 34, 114, 55, 57, 33, 104, 130, 198, 97, 131, 37, 156, 146, 106, 152, 122, 147, 20, 184, 30, 179, 150, 86, 123, 164, 140, 36, 75, 115, 47, 48, 22, 76, 134, 159, 109, 110, 91, 60, 21, 78, 62, 67, 112, 28, 144, 116, 204, 94, 175, 107, 98, 119, 202, 137, 32, 102, 142, 153, 38, 167, 191, 127, 129, 69, 193, 160, 174, 139, 58, 35, 61, 42, 163, 126, 125, 49, 80, 157, 135, 85, 197, 14, 201, 74, 196, 113, 17, 176, 177], 100) == None\n",
    "    marks[qn_id] += part_marks\n",
    "except:\n",
    "    num_errors += 1\n",
    "    print(\"Your code did not pass test #{0}\".format(part_id))\n",
    "\n",
    "if num_errors == 0:\n",
    "    print(\"Your code passed all the tests. Well done!\")\n",
    "\n",
    "print(\"Marks for this question: {0:.1f}\".format( marks[qn_id] ))\n",
    "print(\"Total marks so far: {0:.1f}\".format( sum(marks) ))\n"
   ]
  },
  {
   "cell_type": "markdown",
   "metadata": {},
   "source": [
    "## Question 3\n",
    "\n",
    "Your function should take a list of unique integers and a target integer. The function should compute the list of pairs of integers both of which are divisible by the target integer. \n",
    "\n",
    "For example, suppose the list is $[9,2,5,4,3,6,7,1,8]$ and the target number is $3$. Three is a common divisor for $(9,3), (9, 6), (3, 6)$. So the function should output the list $[(9,3), (9, 6), (3, 6)]$. Note that we process the elements in the order in which they appear in the input list.\n"
   ]
  },
  {
   "cell_type": "code",
   "execution_count": 8,
   "metadata": {},
   "outputs": [],
   "source": [
    "def ways_to_divide(num_list, k):\n",
    "    divisibleList = []\n",
    "    for val in num_list:\n",
    "        if((val % k) is 0):\n",
    "            divisibleList.append(val)\n",
    "\n",
    "    factorTuples = []\n",
    "    length = len(divisibleList)\n",
    "    for i in range(length):\n",
    "        for j in range(i, length):\n",
    "            if(j != i):\n",
    "                factorTuples.append((divisibleList[i], divisibleList[j]))\n",
    "    return factorTuples"
   ]
  },
  {
   "cell_type": "code",
   "execution_count": 9,
   "metadata": {},
   "outputs": [
    {
     "name": "stdout",
     "output_type": "stream",
     "text": [
      "[(12, 18)]\n",
      "16\n",
      "13\n"
     ]
    }
   ],
   "source": [
    "print(ways_to_divide([12, 19, 16, 13, 18, 20], 6))\n",
    "alist = [12, 19, 16, 13, 18, 20]\n",
    "for j in range(2, 4):\n",
    "    print(alist[j])"
   ]
  },
  {
   "cell_type": "code",
   "execution_count": 10,
   "metadata": {},
   "outputs": [
    {
     "name": "stdout",
     "output_type": "stream",
     "text": [
      "Your code passed all the tests. Well done!\n",
      "Marks for this question: 8.0\n",
      "Total marks so far: 24.0\n"
     ]
    }
   ],
   "source": [
    "#Tests\n",
    "\n",
    "qn_id = 3\n",
    "marks[qn_id] = 0\n",
    "part_marks = 1.6\n",
    "part_id = 0\n",
    "num_errors = 0\n",
    "\n",
    "\n",
    "# Test 1\n",
    "part_id += 1\n",
    "try:\n",
    "    assert ways_to_divide([12, 19, 16, 13, 18, 20], 6) == [(12, 18)]\n",
    "    marks[qn_id] += part_marks\n",
    "except:\n",
    "    num_errors += 1\n",
    "    print(\"Your code did not pass test #{0}\".format(part_id))\n",
    "\n",
    "\n",
    "# Test 2\n",
    "part_id += 1\n",
    "try:\n",
    "    assert ways_to_divide([20, 16, 26, 13, 21, 30, 14, 17, 27, 12], 14) == []\n",
    "    marks[qn_id] += part_marks\n",
    "except:\n",
    "    num_errors += 1\n",
    "    print(\"Your code did not pass test #{0}\".format(part_id))\n",
    "\n",
    "\n",
    "# Test 3\n",
    "part_id += 1\n",
    "try:\n",
    "    assert ways_to_divide([18, 41, 47, 16, 35, 43, 45, 24, 31, 12, 29, 20, 22, 39, 26, 38, 19, 17, 28, 40], 5) ==  [(35, 45), (35, 20), (35, 40), (45, 20), (45, 40), (20, 40)]\n",
    "    marks[qn_id] += part_marks\n",
    "except:\n",
    "    num_errors += 1\n",
    "    print(\"Your code did not pass test #{0}\".format(part_id))\n",
    "\n",
    "\n",
    "# Test 4\n",
    "part_id += 1\n",
    "try:\n",
    "    assert ways_to_divide([91, 105, 88, 57, 50, 75, 42, 43, 27, 98, 108, 93, 102, 101, 81, 70, 72, 92, 34, 52, 103, 26, 35, 31, 84, 60, 48, 83, 90, 58, 56, 55, 82, 65, 95, 16, 23, 36, 73, 18, 15, 46, 97, 21, 111, 68, 86, 29, 20, 61, 54, 94, 37], 7) == [(91, 105), (91, 42), (91, 98), (91, 70), (91, 35), (91, 84), (91, 56), (91, 21), (105, 42), (105, 98), (105, 70), (105, 35), (105, 84), (105, 56), (105, 21), (42, 98), (42, 70), (42, 35), (42, 84), (42, 56), (42, 21), (98, 70), (98, 35), (98, 84), (98, 56), (98, 21), (70, 35), (70, 84), (70, 56), (70, 21), (35, 84), (35, 56), (35, 21), (84, 56), (84, 21), (56, 21)]\n",
    "    marks[qn_id] += part_marks\n",
    "except:\n",
    "    num_errors += 1\n",
    "    print(\"Your code did not pass test #{0}\".format(part_id))\n",
    "\n",
    "\n",
    "# Test 5\n",
    "part_id += 1\n",
    "try:\n",
    "    assert ways_to_divide([141, 82, 78, 32, 153, 182, 187, 37, 14, 23, 132, 104, 204, 55, 115, 70, 118, 33, 155, 203, 43, 186, 34, 139, 92, 202, 89, 190, 77, 38, 96, 192, 94, 162, 178, 90, 83, 86, 12, 68, 144, 62, 66, 16, 46, 59, 150, 183, 27, 15, 72, 206, 111, 63, 154, 42, 31, 53, 61, 133, 30, 195, 157, 19, 29, 208, 101, 123, 127, 135, 40, 136, 128, 138, 168, 148, 167, 22, 114, 210, 129, 13, 126, 159, 28, 54, 57, 65, 140, 130, 131, 50, 188, 21, 56, 106, 145, 121, 177, 151, 205, 39], 29) ==  [(203, 29), (203, 145), (29, 145)]\n",
    "    marks[qn_id] += part_marks\n",
    "except:\n",
    "    num_errors += 1\n",
    "    print(\"Your code did not pass test #{0}\".format(part_id))\n",
    "\n",
    "if num_errors == 0:\n",
    "    print(\"Your code passed all the tests. Well done!\")\n",
    "\n",
    "print(\"Marks for this question: {0:.1f}\".format( marks[qn_id] ))\n",
    "print(\"Total marks so far: {0:.1f}\".format( sum(marks) ))\n"
   ]
  },
  {
   "cell_type": "markdown",
   "metadata": {},
   "source": [
    "## Question 4\n",
    "\n",
    "This and the next questions are graph-related. Assume that graphs are input using an adjacency-list representation. We will use a dictionary for storing graphs. If $\\text{graph}$ is an input graph and $u$ is a node in the graph, $\\text{graph}[u]$ will be the list of nodes adjacent to $u$.\n",
    "\n",
    "In this question, given a graph, find the node(s) with the largest degree. Return such nodes as a list."
   ]
  },
  {
   "cell_type": "code",
   "execution_count": 11,
   "metadata": {},
   "outputs": [],
   "source": [
    "def max_degree(graph):\n",
    "    if(graph.__len__() == 0):\n",
    "        return []\n",
    "    degreeList = []\n",
    "    degreeDict = {}\n",
    "\n",
    "    for key in graph:\n",
    "        degree = len(graph[key])\n",
    "        if((degreeDict.__contains__(degree)) is False):\n",
    "            degreeDict[degree] = []\n",
    "        degreeList.append(degree)\n",
    "        degreeDict[degree].append(key)\n",
    "\n",
    "    maxDegree = max(degreeList)\n",
    "    return degreeDict[maxDegree]"
   ]
  },
  {
   "cell_type": "code",
   "execution_count": 12,
   "metadata": {},
   "outputs": [
    {
     "name": "stdout",
     "output_type": "stream",
     "text": [
      "4\n",
      "[1, 4]\n"
     ]
    }
   ],
   "source": [
    "def make_undirected_graph(alist):\n",
    "    graph = {}\n",
    "    for u, v in alist:\n",
    "        if u not in graph:\n",
    "            graph[u] = []\n",
    "        if v not in graph[u]:\n",
    "            graph[u].append(v)\n",
    "        if v not in graph:\n",
    "            graph[v] = []\n",
    "        if u not in graph[v]:\n",
    "            graph[v].append(u)\n",
    "    return graph\n",
    "\n",
    "returnedGraph = make_undirected_graph([(1,2), (1,3), (1,4), (2,4), (3,4)])\n",
    "print(returnedGraph.__len__())\n",
    "print(max_degree(returnedGraph))"
   ]
  },
  {
   "cell_type": "code",
   "execution_count": 13,
   "metadata": {},
   "outputs": [
    {
     "name": "stdout",
     "output_type": "stream",
     "text": [
      "Your code passed all the tests. Well done!\n",
      "Marks for this question: 8.0\n",
      "Total marks so far: 32.0\n"
     ]
    }
   ],
   "source": [
    "# Tests\n",
    "\n",
    "def make_undirected_graph(alist):\n",
    "    graph = {}\n",
    "    for u, v in alist:\n",
    "        if u not in graph:\n",
    "            graph[u] = []\n",
    "        if v not in graph[u]:\n",
    "            graph[u].append(v)\n",
    "        if v not in graph:\n",
    "            graph[v] = []\n",
    "        if u not in graph[v]:\n",
    "            graph[v].append(u)\n",
    "    return graph\n",
    "\n",
    "qn_id = 4\n",
    "marks[qn_id] = 0\n",
    "part_marks = 1.6\n",
    "part_id = 0\n",
    "num_errors = 0\n",
    "\n",
    "def test_nodes(a, b):\n",
    "    return set(a) == set(b)\n",
    "\n",
    "\n",
    "# Test 1\n",
    "part_id += 1\n",
    "try:\n",
    "    assert test_nodes(max_degree(make_undirected_graph( [(1,2), (1,3), (1,4), (2,4), (3,4)] )), [1, 4])\n",
    "    marks[qn_id] += part_marks\n",
    "except:\n",
    "    num_errors += 1\n",
    "    print(\"Your code did not pass test #{0}\".format(part_id))\n",
    "\n",
    "\n",
    "# Test 2\n",
    "part_id += 1\n",
    "try:\n",
    "    assert test_nodes(max_degree(make_undirected_graph( [(1,3), (1,4), (2,4), (3,4)] )),  [4])\n",
    "    marks[qn_id] += part_marks\n",
    "except:\n",
    "    num_errors += 1\n",
    "    print(\"Your code did not pass test #{0}\".format(part_id))\n",
    "\n",
    "\n",
    "# Test 3\n",
    "part_id += 1\n",
    "try:\n",
    "    assert test_nodes(max_degree(make_undirected_graph( [(1,1), (1,2), (1,3), (1,4), (2,4), (3,4)] )), [1])\n",
    "    marks[qn_id] += part_marks\n",
    "except:\n",
    "    num_errors += 1\n",
    "    print(\"Your code did not pass test #{0}\".format(part_id))\n",
    "\n",
    "\n",
    "# Test 4\n",
    "part_id += 1\n",
    "try:\n",
    "    assert test_nodes( max_degree(make_undirected_graph( [(1,2), (1,3), (1,4), (2,3), (2,4), (3,4)] )), [1,2,3,4])\n",
    "    marks[qn_id] += part_marks\n",
    "except:\n",
    "    num_errors += 1\n",
    "    print(\"Your code did not pass test #{0}\".format(part_id))\n",
    "\n",
    "\n",
    "# Test 5\n",
    "part_id += 1\n",
    "try:\n",
    "    assert test_nodes(max_degree(make_undirected_graph( [] )),  [])\n",
    "    marks[qn_id] += part_marks\n",
    "except:\n",
    "    num_errors += 1\n",
    "    print(\"Your code did not pass test #{0}\".format(part_id))\n",
    "\n",
    "if num_errors == 0:\n",
    "    print(\"Your code passed all the tests. Well done!\")\n",
    "\n",
    "print(\"Marks for this question: {0:.1f}\".format( marks[qn_id] ))\n",
    "print(\"Total marks so far: {0:.1f}\".format( sum(marks) ))\n"
   ]
  },
  {
   "cell_type": "markdown",
   "metadata": {},
   "source": [
    "## Question 5\n",
    "\n",
    "Given a graph, and two nodes $u$, and $v$, return the number of paths from $u$ to $v$ if there is one."
   ]
  },
  {
   "cell_type": "code",
   "execution_count": 2,
   "metadata": {},
   "outputs": [],
   "source": [
    "def number_of_paths(graph, u, v):\n",
    "    adjList = graph[u]\n",
    "    number_of_paths = 0\n",
    "    if adjList.__contains__(v):\n",
    "        number_of_paths += 1\n",
    "    return number_of_paths"
   ]
  },
  {
   "cell_type": "code",
   "execution_count": 3,
   "metadata": {},
   "outputs": [
    {
     "name": "stdout",
     "output_type": "stream",
     "text": [
      "{1: [2, 3, 5], 2: [4], 3: [4], 4: [5]}\n"
     ]
    }
   ],
   "source": [
    "def make_directed_graph(alist):\n",
    "    graph = {}\n",
    "    for u, v in alist:\n",
    "        if u not in graph:\n",
    "            graph[u] = []\n",
    "        if v not in graph[u]:\n",
    "            graph[u].append(v)\n",
    "    return graph\n",
    "\n",
    "graph = make_directed_graph( [(1,2), (1,3), (1,5), (2,4), (3,4), (4,5)] )\n",
    "print(graph)"
   ]
  },
  {
   "cell_type": "code",
   "execution_count": 16,
   "metadata": {},
   "outputs": [
    {
     "name": "stdout",
     "output_type": "stream",
     "text": [
      "Your code did not pass test #2\n",
      "Your code did not pass test #3\n",
      "Your code did not pass test #5\n",
      "Marks for this question: 3.2\n",
      "Total marks so far: 35.2\n"
     ]
    }
   ],
   "source": [
    "# Tests\n",
    "\n",
    "def make_directed_graph(alist):\n",
    "    graph = {}\n",
    "    for u, v in alist:\n",
    "        if u not in graph:\n",
    "            graph[u] = []\n",
    "        if v not in graph[u]:\n",
    "            graph[u].append(v)\n",
    "    return graph\n",
    "\n",
    "graph = make_directed_graph( [(1,2), (1,3), (1,5), (2,4), (3,4), (4,5)] )\n",
    "\n",
    "\n",
    "qn_id = 5\n",
    "marks[qn_id] = 0\n",
    "part_marks = 1.6\n",
    "part_id = 0\n",
    "num_errors = 0\n",
    "\n",
    "# Test 1\n",
    "part_id += 1\n",
    "try:\n",
    "    assert number_of_paths(graph, 1, 2) == 1\n",
    "    marks[qn_id] += part_marks\n",
    "except:\n",
    "    num_errors += 1\n",
    "    print(\"Your code did not pass test #{0}\".format(part_id))\n",
    "\n",
    "\n",
    "# Test 2\n",
    "part_id += 1\n",
    "try:\n",
    "    assert number_of_paths(graph, 1, 5) == 3\n",
    "    marks[qn_id] += part_marks\n",
    "except:\n",
    "    num_errors += 1\n",
    "    print(\"Your code did not pass test #{0}\".format(part_id))\n",
    "\n",
    "\n",
    "# Test 3\n",
    "part_id += 1\n",
    "try:\n",
    "    assert number_of_paths(graph, 1, 4) == 2\n",
    "    marks[qn_id] += part_marks\n",
    "except:\n",
    "    num_errors += 1\n",
    "    print(\"Your code did not pass test #{0}\".format(part_id))\n",
    "\n",
    "\n",
    "# Test 4\n",
    "part_id += 1\n",
    "try:\n",
    "    assert number_of_paths(graph, 3, 1) == 0\n",
    "    marks[qn_id] += part_marks\n",
    "except:\n",
    "    num_errors += 1\n",
    "    print(\"Your code did not pass test #{0}\".format(part_id))\n",
    "\n",
    "\n",
    "# Test 5\n",
    "part_id += 1\n",
    "try:\n",
    "    assert number_of_paths(graph, 6, 1) == 0 and number_of_paths(graph, 1, 6) == 0\n",
    "    marks[qn_id] += part_marks\n",
    "except:\n",
    "    num_errors += 1\n",
    "    print(\"Your code did not pass test #{0}\".format(part_id))\n",
    "\n",
    "if num_errors == 0:\n",
    "    print(\"Your code passed all the tests. Well done!\")\n",
    "\n",
    "print(\"Marks for this question: {0:.1f}\".format( marks[qn_id] ))\n",
    "print(\"Total marks so far: {0:.1f}\".format( sum(marks) ))\n"
   ]
  },
  {
   "cell_type": "code",
   "execution_count": null,
   "metadata": {},
   "outputs": [],
   "source": []
  }
 ],
 "metadata": {
  "kernelspec": {
   "display_name": "Python 3",
   "language": "python",
   "name": "python3"
  },
  "language_info": {
   "codemirror_mode": {
    "name": "ipython",
    "version": 3
   },
   "file_extension": ".py",
   "mimetype": "text/x-python",
   "name": "python",
   "nbconvert_exporter": "python",
   "pygments_lexer": "ipython3",
   "version": "3.6.6"
  }
 },
 "nbformat": 4,
 "nbformat_minor": 2
}
